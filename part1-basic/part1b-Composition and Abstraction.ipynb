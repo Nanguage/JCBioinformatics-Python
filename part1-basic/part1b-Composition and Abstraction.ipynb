{
 "cells": [
  {
   "cell_type": "markdown",
   "metadata": {
    "slideshow": {
     "slide_type": "slide"
    }
   },
   "source": [
    "# Python Basic\n",
    "\n",
    "JCBioinformatics - 2019 - HZAU\n"
   ]
  },
  {
   "cell_type": "markdown",
   "metadata": {
    "slideshow": {
     "slide_type": "slide"
    }
   },
   "source": [
    "## 组合与抽象\n",
    "\n",
    "<img src=\"./img/sicp_0.png\" alt=\"Drawing\" style=\"width: 700px;\"/>"
   ]
  },
  {
   "cell_type": "markdown",
   "metadata": {
    "slideshow": {
     "slide_type": "subslide"
    }
   },
   "source": [
    "## Contents\n",
    "\n",
    "1. 如何组合\n",
    "    + 内置数据结构\n",
    "        - list / tuple / set / dict\n",
    "    + 控制流\n",
    "        - 循环 for / while\n",
    "        - 分支\n",
    "2. 如何抽象\n",
    "    + 函数\n",
    "    + 类与对象\n",
    "    + 选择一种编程范式\n"
   ]
  },
  {
   "cell_type": "markdown",
   "metadata": {
    "slideshow": {
     "slide_type": "slide"
    }
   },
   "source": [
    "## 如何组合\n",
    "\n",
    "<img src=\"https://upload.wikimedia.org/wikipedia/commons/0/0f/2_duplo_lego_bricks.jpg\" alt=\"Drawing\" style=\"width: 200px;\"/>\n"
   ]
  },
  {
   "cell_type": "markdown",
   "metadata": {
    "slideshow": {
     "slide_type": "subslide"
    }
   },
   "source": [
    "#### 1. 数据结构（对数据的组合）\n",
    "\n",
    "+ list\n",
    "+ tuple\n",
    "+ dict\n",
    "+ set\n",
    "+ 其他常用数据结构，collections\n",
    "\n",
    "#### 2. 控制流（对程序行为的组合）\n",
    "\n",
    "+ 循环：for、while\n",
    "+ 分支： if else\n",
    "+ 异常处理：try except、raise"
   ]
  },
  {
   "cell_type": "markdown",
   "metadata": {
    "slideshow": {
     "slide_type": "slide"
    }
   },
   "source": [
    "## 列表\n",
    "\n",
    "列表应该是一种 Python 中十分常用的数据结构，用来表示具有**顺序**的一系列元素(item)。"
   ]
  },
  {
   "cell_type": "code",
   "execution_count": 1,
   "metadata": {
    "slideshow": {
     "slide_type": "fragment"
    }
   },
   "outputs": [
    {
     "data": {
      "text/plain": [
       "list"
      ]
     },
     "execution_count": 1,
     "metadata": {},
     "output_type": "execute_result"
    }
   ],
   "source": [
    "l1 = [1,2,3,4,5]\n",
    "type(l1)"
   ]
  },
  {
   "cell_type": "markdown",
   "metadata": {
    "slideshow": {
     "slide_type": "fragment"
    }
   },
   "source": [
    "还记得字符串吗？list 在某种程度上与字符串很相似，比如说，你可以用下标语法从列表中取元素出来："
   ]
  },
  {
   "cell_type": "code",
   "execution_count": 2,
   "metadata": {
    "slideshow": {
     "slide_type": "fragment"
    }
   },
   "outputs": [
    {
     "data": {
      "text/plain": [
       "1"
      ]
     },
     "execution_count": 2,
     "metadata": {},
     "output_type": "execute_result"
    }
   ],
   "source": [
    "l1[0]"
   ]
  },
  {
   "cell_type": "code",
   "execution_count": 3,
   "metadata": {
    "slideshow": {
     "slide_type": "fragment"
    }
   },
   "outputs": [
    {
     "data": {
      "text/plain": [
       "5"
      ]
     },
     "execution_count": 3,
     "metadata": {},
     "output_type": "execute_result"
    }
   ],
   "source": [
    "l1[-1]"
   ]
  },
  {
   "cell_type": "markdown",
   "metadata": {
    "slideshow": {
     "slide_type": "subslide"
    }
   },
   "source": [
    "也可以向字符串切片那样从一个列表中取出一个子列表："
   ]
  },
  {
   "cell_type": "code",
   "execution_count": 4,
   "metadata": {
    "slideshow": {
     "slide_type": "-"
    }
   },
   "outputs": [
    {
     "data": {
      "text/plain": [
       "[2, 3, 4]"
      ]
     },
     "execution_count": 4,
     "metadata": {},
     "output_type": "execute_result"
    }
   ],
   "source": [
    "l1[1:4]"
   ]
  },
  {
   "cell_type": "code",
   "execution_count": 5,
   "metadata": {
    "slideshow": {
     "slide_type": "-"
    }
   },
   "outputs": [
    {
     "data": {
      "text/plain": [
       "[5, 4, 3, 2, 1]"
      ]
     },
     "execution_count": 5,
     "metadata": {},
     "output_type": "execute_result"
    }
   ],
   "source": [
    "l1[::-1] # 步长为 -1 ，对列表进行反转"
   ]
  },
  {
   "cell_type": "markdown",
   "metadata": {
    "slideshow": {
     "slide_type": "fragment"
    }
   },
   "source": [
    "也可以用 `+` 连接两个 list："
   ]
  },
  {
   "cell_type": "code",
   "execution_count": 21,
   "metadata": {
    "slideshow": {
     "slide_type": "-"
    }
   },
   "outputs": [
    {
     "data": {
      "text/plain": [
       "[1, 2, 3, 3, 2, 1]"
      ]
     },
     "execution_count": 21,
     "metadata": {},
     "output_type": "execute_result"
    }
   ],
   "source": [
    "l1 = [1,2,3]\n",
    "l2 = [3,2,1]\n",
    "l1 + l2"
   ]
  },
  {
   "cell_type": "markdown",
   "metadata": {
    "slideshow": {
     "slide_type": "fragment"
    }
   },
   "source": [
    "虽然和字符串有些相似，但与字符串不同，首先，列表元素可以是任意类型的："
   ]
  },
  {
   "cell_type": "code",
   "execution_count": 6,
   "metadata": {
    "slideshow": {
     "slide_type": "-"
    }
   },
   "outputs": [],
   "source": [
    "l1 = [1, \"this is a str\", 1.114, True]"
   ]
  },
  {
   "cell_type": "markdown",
   "metadata": {
    "slideshow": {
     "slide_type": "fragment"
    }
   },
   "source": [
    "列表还可以嵌套，也就是说列表的元素也可以是一个列表："
   ]
  },
  {
   "cell_type": "code",
   "execution_count": 7,
   "metadata": {
    "slideshow": {
     "slide_type": "-"
    }
   },
   "outputs": [],
   "source": [
    "animals = [[\"dog\", \"cat\"], [\"fish\", \"tutle\"], [\"bird\"]]"
   ]
  },
  {
   "cell_type": "markdown",
   "metadata": {
    "slideshow": {
     "slide_type": "subslide"
    }
   },
   "source": [
    "并且，字符串是一种不可变(immutable)的数据类型，而列表是可变的，也就是说我们可以对一个列表中增添、删除、修改元素："
   ]
  },
  {
   "cell_type": "code",
   "execution_count": 8,
   "metadata": {
    "slideshow": {
     "slide_type": "-"
    }
   },
   "outputs": [
    {
     "data": {
      "text/plain": [
       "['JoJo', 'Dio', 'Caesar', 'Zeppeli']"
      ]
     },
     "execution_count": 8,
     "metadata": {},
     "output_type": "execute_result"
    }
   ],
   "source": [
    "names = [\"JoJo\", \"Dio\", \"Caesar\"]\n",
    "names.append(\"Zeppeli\")  # 向列表末尾增加元素\n",
    "names"
   ]
  },
  {
   "cell_type": "code",
   "execution_count": 9,
   "metadata": {
    "slideshow": {
     "slide_type": "-"
    }
   },
   "outputs": [
    {
     "name": "stdout",
     "output_type": "stream",
     "text": [
      "['Wamuu', 'JoJo', 'Dio', 'Caesar', 'Zeppeli']\n",
      "['Wamuu', 'Kars', 'JoJo', 'Dio', 'Caesar', 'Zeppeli']\n"
     ]
    }
   ],
   "source": [
    "names.insert(0, \"Wamuu\")  # 在列表开头（0号位置）插入元素\n",
    "print(names)\n",
    "names.insert(1, \"Kars\") # 在索引值为 1 的位置 插入元素\n",
    "print(names)"
   ]
  },
  {
   "cell_type": "code",
   "execution_count": 10,
   "metadata": {
    "slideshow": {
     "slide_type": "-"
    }
   },
   "outputs": [
    {
     "data": {
      "text/plain": [
       "'Zeppeli'"
      ]
     },
     "execution_count": 10,
     "metadata": {},
     "output_type": "execute_result"
    }
   ],
   "source": [
    "names.pop() # append 的逆向操作，从末尾移出一个值"
   ]
  },
  {
   "cell_type": "code",
   "execution_count": 11,
   "metadata": {
    "slideshow": {
     "slide_type": "-"
    }
   },
   "outputs": [
    {
     "data": {
      "text/plain": [
       "['Wamuu', 'Kars', 'JoJo', 'Dio', 'Caesar']"
      ]
     },
     "execution_count": 11,
     "metadata": {},
     "output_type": "execute_result"
    }
   ],
   "source": [
    "names"
   ]
  },
  {
   "cell_type": "code",
   "execution_count": 12,
   "metadata": {
    "slideshow": {
     "slide_type": "subslide"
    }
   },
   "outputs": [
    {
     "data": {
      "text/plain": [
       "'JoJo'"
      ]
     },
     "execution_count": 12,
     "metadata": {},
     "output_type": "execute_result"
    }
   ],
   "source": [
    "# 也可以从 列表 中间 pop\n",
    "names.pop(2)"
   ]
  },
  {
   "cell_type": "code",
   "execution_count": 13,
   "metadata": {
    "slideshow": {
     "slide_type": "-"
    }
   },
   "outputs": [
    {
     "data": {
      "text/plain": [
       "['Wamuu', 'Kars', 'Dio', 'Caesar']"
      ]
     },
     "execution_count": 13,
     "metadata": {},
     "output_type": "execute_result"
    }
   ],
   "source": [
    "names"
   ]
  },
  {
   "cell_type": "markdown",
   "metadata": {
    "slideshow": {
     "slide_type": "fragment"
    }
   },
   "source": [
    "要对列表特定位置的元素进行修改时，只需要联合使用下标语法和赋值语句即可："
   ]
  },
  {
   "cell_type": "code",
   "execution_count": 14,
   "metadata": {
    "slideshow": {
     "slide_type": "-"
    }
   },
   "outputs": [],
   "source": [
    "names[-1] = 'Caesar!!!!!'  # 修改最后一个元素"
   ]
  },
  {
   "cell_type": "code",
   "execution_count": 15,
   "metadata": {
    "slideshow": {
     "slide_type": "-"
    }
   },
   "outputs": [
    {
     "data": {
      "text/plain": [
       "['Wamuu', 'Kars', 'Dio', 'Caesar!!!!!']"
      ]
     },
     "execution_count": 15,
     "metadata": {},
     "output_type": "execute_result"
    }
   ],
   "source": [
    "names"
   ]
  },
  {
   "cell_type": "markdown",
   "metadata": {
    "slideshow": {
     "slide_type": "subslide"
    }
   },
   "source": [
    "#### in 语句\n",
    "\n",
    "`in` 是一个用来判断一个元素是否存在于一个数据结构之中的谓词，我们可以用它来判断一个元素是否位于 list 之中："
   ]
  },
  {
   "cell_type": "code",
   "execution_count": 16,
   "metadata": {
    "scrolled": true,
    "slideshow": {
     "slide_type": "fragment"
    }
   },
   "outputs": [
    {
     "name": "stdout",
     "output_type": "stream",
     "text": [
      "['Wamuu', 'Kars', 'Dio', 'Caesar!!!!!']\n"
     ]
    },
    {
     "data": {
      "text/plain": [
       "False"
      ]
     },
     "execution_count": 16,
     "metadata": {},
     "output_type": "execute_result"
    }
   ],
   "source": [
    "print(names)\n",
    "\"JoJo\" in names"
   ]
  },
  {
   "cell_type": "code",
   "execution_count": 17,
   "metadata": {
    "slideshow": {
     "slide_type": "-"
    }
   },
   "outputs": [
    {
     "data": {
      "text/plain": [
       "False"
      ]
     },
     "execution_count": 17,
     "metadata": {},
     "output_type": "execute_result"
    }
   ],
   "source": [
    "\"Zeppeli\" in names"
   ]
  },
  {
   "cell_type": "markdown",
   "metadata": {
    "slideshow": {
     "slide_type": "fragment"
    }
   },
   "source": [
    "其实之前讲字符串时没有提到，`in` 也可以用来判断一个字符串是否是另一个字符串的子字符串。"
   ]
  },
  {
   "cell_type": "code",
   "execution_count": 18,
   "metadata": {
    "slideshow": {
     "slide_type": "-"
    }
   },
   "outputs": [
    {
     "data": {
      "text/plain": [
       "True"
      ]
     },
     "execution_count": 18,
     "metadata": {},
     "output_type": "execute_result"
    }
   ],
   "source": [
    "\"foo\" in \"foobar\""
   ]
  },
  {
   "cell_type": "markdown",
   "metadata": {
    "slideshow": {
     "slide_type": "slide"
    }
   },
   "source": [
    "## for 循环"
   ]
  },
  {
   "cell_type": "markdown",
   "metadata": {
    "slideshow": {
     "slide_type": "subslide"
    }
   },
   "source": [
    "学习完一个常用的数据结构，接着再来学习一种常用的基本控制流：for 循环。"
   ]
  },
  {
   "cell_type": "code",
   "execution_count": 19,
   "metadata": {
    "slideshow": {
     "slide_type": "fragment"
    }
   },
   "outputs": [
    {
     "name": "stdout",
     "output_type": "stream",
     "text": [
      "Wamuu\n",
      "Kars\n",
      "Dio\n",
      "Caesar!!!!!\n"
     ]
    }
   ],
   "source": [
    "for i in names:\n",
    "    print(i)"
   ]
  },
  {
   "cell_type": "markdown",
   "metadata": {
    "slideshow": {
     "slide_type": "fragment"
    }
   },
   "source": [
    "上面的代码运行了一个 for 循环，展示了它的语法。它表示的意思是 对 names 这个列表进行迭代，\n",
    "每轮迭代中将 其中的一个元素赋值给 i ，然后执行下方的 \"缩进块\" 中的代码。\n",
    "\n",
    "众所周知，Python 是一种考虑缩进(indentation)的语言，Python中使用缩进来组织代码，位于同一缩进层级的代码可以看作成一个整体。\n",
    "一般而言，我们使用4个空格进行缩进，虽然你也可以用一个`tab`键表示缩进但不建议这样做，4个空格的缩进是 Python 程序员之间的一个共识。 "
   ]
  },
  {
   "cell_type": "markdown",
   "metadata": {
    "slideshow": {
     "slide_type": "subslide"
    }
   },
   "source": [
    "循环可以嵌套，让我们来打印一个乘法表："
   ]
  },
  {
   "cell_type": "code",
   "execution_count": 25,
   "metadata": {
    "slideshow": {
     "slide_type": "fragment"
    }
   },
   "outputs": [
    {
     "name": "stdout",
     "output_type": "stream",
     "text": [
      "1\t2\t3\t4\t5\t6\t7\t8\t9\t\n",
      "2\t4\t6\t8\t10\t12\t14\t16\t18\t\n",
      "3\t6\t9\t12\t15\t18\t21\t24\t27\t\n",
      "4\t8\t12\t16\t20\t24\t28\t32\t36\t\n",
      "5\t10\t15\t20\t25\t30\t35\t40\t45\t\n",
      "6\t12\t18\t24\t30\t36\t42\t48\t54\t\n",
      "7\t14\t21\t28\t35\t42\t49\t56\t63\t\n",
      "8\t16\t24\t32\t40\t48\t56\t64\t72\t\n",
      "9\t18\t27\t36\t45\t54\t63\t72\t81\t\n"
     ]
    }
   ],
   "source": [
    "for i in range(1, 10):\n",
    "    for j in range(1, 10):\n",
    "        print(i*j, end=\"\\t\")\n",
    "    print(\"\")"
   ]
  },
  {
   "cell_type": "markdown",
   "metadata": {
    "slideshow": {
     "slide_type": "subslide"
    }
   },
   "source": [
    "#### range\n",
    "这里使用了`range`函数，它用来创建表示一个内范围数字的可迭代(iterable)对象。可迭代意味着这个对象是可以被 for 循环访问的，我们上面学的 list 也是一个可迭代的对象，但需要注意的是这里`range`创建的并不是一个 `list`："
   ]
  },
  {
   "cell_type": "code",
   "execution_count": 26,
   "metadata": {
    "slideshow": {
     "slide_type": "fragment"
    }
   },
   "outputs": [
    {
     "data": {
      "text/plain": [
       "range"
      ]
     },
     "execution_count": 26,
     "metadata": {},
     "output_type": "execute_result"
    }
   ],
   "source": [
    "type(range(1, 10))"
   ]
  },
  {
   "cell_type": "markdown",
   "metadata": {
    "slideshow": {
     "slide_type": "fragment"
    }
   },
   "source": [
    "但我们可以用 `list` 函数将它转换为 列表："
   ]
  },
  {
   "cell_type": "code",
   "execution_count": 27,
   "metadata": {
    "slideshow": {
     "slide_type": "fragment"
    }
   },
   "outputs": [
    {
     "data": {
      "text/plain": [
       "[1, 2, 3, 4, 5, 6, 7, 8, 9]"
      ]
     },
     "execution_count": 27,
     "metadata": {},
     "output_type": "execute_result"
    }
   ],
   "source": [
    "list(range(1, 10))"
   ]
  },
  {
   "cell_type": "markdown",
   "metadata": {
    "slideshow": {
     "slide_type": "fragment"
    }
   },
   "source": [
    "像 range 这样的迭代器在处理很大的范围的时候，比直接使用一个列表要更有优势，因为一个很大的 list 会占用掉很多内存，而 `range` 只有在\n",
    "迭代到某一位的时候这一位的数字才会产生。"
   ]
  },
  {
   "cell_type": "code",
   "execution_count": 28,
   "metadata": {
    "slideshow": {
     "slide_type": "fragment"
    }
   },
   "outputs": [
    {
     "name": "stdout",
     "output_type": "stream",
     "text": [
      "0 1 2 3 4 5 6 7 8 9 "
     ]
    }
   ],
   "source": [
    "for i in range(10):  # 对 0 - 9 进行迭代\n",
    "    print(i, end=\" \")"
   ]
  },
  {
   "cell_type": "code",
   "execution_count": 29,
   "metadata": {
    "slideshow": {
     "slide_type": "fragment"
    }
   },
   "outputs": [
    {
     "name": "stdout",
     "output_type": "stream",
     "text": [
      "5 6 7 8 9 10 "
     ]
    }
   ],
   "source": [
    "for i in range(5, 11):  # 对 5 - 10 进行迭代\n",
    "    print(i, end=\" \")"
   ]
  },
  {
   "cell_type": "code",
   "execution_count": 30,
   "metadata": {
    "slideshow": {
     "slide_type": "fragment"
    }
   },
   "outputs": [
    {
     "name": "stdout",
     "output_type": "stream",
     "text": [
      "0 2 4 6 8 10 12 14 16 18 "
     ]
    }
   ],
   "source": [
    "for i in range(0, 20, 2):  # 可以设置步长，步长为 2\n",
    "    print(i, end=\" \")"
   ]
  },
  {
   "cell_type": "markdown",
   "metadata": {
    "slideshow": {
     "slide_type": "slide"
    }
   },
   "source": [
    "## 条件分支\n",
    "\n",
    "![](https://upload.wikimedia.org/wikipedia/commons/thumb/c/c5/If-Then-Else-diagram.svg/330px-If-Then-Else-diagram.svg.png)"
   ]
  },
  {
   "cell_type": "markdown",
   "metadata": {
    "slideshow": {
     "slide_type": "subslide"
    }
   },
   "source": [
    "条件分支使得程序具有根据某一条件是否满足来确定一段代码是否执行的能力，这对于编写程序来说是非常重要的。我们之前学过的谓词能够在此发挥作用，\n",
    "我们可以根据谓词产生的结果来决定走代码分支中的那一条路径，或者是否执行一段代码，比如说：\n",
    "\n",
    "我们根据变量 a 是否能够整除 2 来判断它是否是一个偶数，然后使程序产生不同的打印结果"
   ]
  },
  {
   "cell_type": "code",
   "execution_count": 34,
   "metadata": {
    "slideshow": {
     "slide_type": "fragment"
    }
   },
   "outputs": [
    {
     "name": "stdout",
     "output_type": "stream",
     "text": [
      "a 是一个奇数\n"
     ]
    }
   ],
   "source": [
    "a = 5\n",
    "\n",
    "if a % 2 == 0:\n",
    "    print(\"a 是一个偶数\")\n",
    "else:\n",
    "    print(\"a 是一个奇数\")\n"
   ]
  },
  {
   "cell_type": "markdown",
   "metadata": {
    "slideshow": {
     "slide_type": "fragment"
    }
   },
   "source": [
    "if 语句，后方也可以不跟随 else，这样使用将不再表示分支，而是确定一段代码是否执行。比如:"
   ]
  },
  {
   "cell_type": "code",
   "execution_count": 37,
   "metadata": {
    "slideshow": {
     "slide_type": "fragment"
    }
   },
   "outputs": [
    {
     "name": "stdout",
     "output_type": "stream",
     "text": [
      "a 是一个正数\n",
      "a 比100要大\n"
     ]
    }
   ],
   "source": [
    "a = 101\n",
    "\n",
    "if a > 0:\n",
    "    print(\"a 是一个正数\")\n",
    "\n",
    "if a > 100:\n",
    "    print(\"a 比100要大\")\n",
    "    \n",
    "if a > 1000:\n",
    "    print(\"a 大于1000\")"
   ]
  },
  {
   "cell_type": "markdown",
   "metadata": {
    "slideshow": {
     "slide_type": "subslide"
    }
   },
   "source": [
    "还有一种情况，程序分支的个数有可能大于两个，这时候该怎么办呢？一种方案是使用嵌套的 if ... else ...\n",
    "\n",
    "比如，\n",
    "我们根据一个人的身高与体重，计算BMI，然后让程序根据BMI给他一些评价："
   ]
  },
  {
   "cell_type": "code",
   "execution_count": 42,
   "metadata": {},
   "outputs": [
    {
     "name": "stdout",
     "output_type": "stream",
     "text": [
      "稍微有点重了，要注意啊。\n"
     ]
    }
   ],
   "source": [
    "weight = 70\n",
    "height = 1.70\n",
    "\n",
    "bmi = weight / (height)**2\n",
    "\n",
    "if bmi < 18.5:\n",
    "    print(\"你实在是太瘦了，多吃点好的。\")\n",
    "else:\n",
    "    if bmi < 24:\n",
    "        print(\"不错，挺好。\")\n",
    "    else:\n",
    "        if bmi < 28:\n",
    "            print(\"稍微有点重了，要注意啊。\")\n",
    "        else:\n",
    "            print(\"你太重了，需要减肥。\")"
   ]
  },
  {
   "cell_type": "markdown",
   "metadata": {
    "slideshow": {
     "slide_type": "fragment"
    }
   },
   "source": [
    "但使用嵌套的 if else 使得代码嵌套层次过多，影响了可读性，显然违背了 The Zen of Python 中的 \"Flat is better than nested.\"。\n",
    "好在你不必这样，因为有 elif 语句可以让我们创建更多的条件分支："
   ]
  },
  {
   "cell_type": "code",
   "execution_count": 44,
   "metadata": {
    "slideshow": {
     "slide_type": "fragment"
    }
   },
   "outputs": [
    {
     "name": "stdout",
     "output_type": "stream",
     "text": [
      "稍微有点重了，要注意啊。\n"
     ]
    }
   ],
   "source": [
    "weight = 70\n",
    "height = 1.70\n",
    "\n",
    "bmi = weight / (height)**2\n",
    "\n",
    "if bmi < 18.5:\n",
    "    print(\"你实在是太瘦了，多吃点好的。\")\n",
    "elif bmi < 24:\n",
    "    print(\"不错，挺好。\")\n",
    "elif bmi < 28:\n",
    "    print(\"稍微有点重了，要注意啊。\")\n",
    "else:\n",
    "    print(\"你太重了，需要减肥。\")"
   ]
  },
  {
   "cell_type": "markdown",
   "metadata": {
    "slideshow": {
     "slide_type": "subslide"
    }
   },
   "source": [
    "#### break\n",
    "\n",
    "有了 if 语句，我们可以在合适的时候打断一个 循环，如果需要这么做，我们要用到 `break` 语句，比如："
   ]
  },
  {
   "cell_type": "code",
   "execution_count": 47,
   "metadata": {
    "slideshow": {
     "slide_type": "fragment"
    }
   },
   "outputs": [
    {
     "name": "stdout",
     "output_type": "stream",
     "text": [
      "15\n"
     ]
    }
   ],
   "source": [
    "# 寻找第一个 同时被 3， 5 整除的数字\n",
    "for i in range(1, 100):\n",
    "    if i % 3 == 0 and i % 5 == 0:\n",
    "        print(i)\n",
    "        break"
   ]
  },
  {
   "cell_type": "markdown",
   "metadata": {
    "slideshow": {
     "slide_type": "slide"
    }
   },
   "source": [
    "目前为止，我们已经有了一个基本的数据结构 list，已经两个让我们能够组合程序行为的控制流 for-loop 与 if-else。\n",
    "实际上我们已经掌握了很强大的组合能力，可以做很多在这之前根本无法做到的事情。\n",
    "\n",
    "比如，我们可以看看 1000 以内有多少个素数："
   ]
  },
  {
   "cell_type": "code",
   "execution_count": 59,
   "metadata": {
    "slideshow": {
     "slide_type": "fragment"
    }
   },
   "outputs": [
    {
     "name": "stdout",
     "output_type": "stream",
     "text": [
      "1000 以内找到了 168 个素数\n"
     ]
    }
   ],
   "source": [
    "primes = []\n",
    "for possible_prime in range(2, 1000):\n",
    "    \n",
    "    is_prime = True\n",
    "    for num in range(2, possible_prime):\n",
    "        if possible_prime % num == 0:\n",
    "            is_prime = False\n",
    "            break\n",
    "      \n",
    "    if is_prime:\n",
    "        primes.append(possible_prime)\n",
    "\n",
    "print(f\"1000 以内找到了 {len(primes)} 个素数\")"
   ]
  },
  {
   "cell_type": "markdown",
   "metadata": {
    "slideshow": {
     "slide_type": "subslide"
    }
   },
   "source": [
    "再比如说，我们可以将一段 DNA 序列进行反向互补(reverse complement)："
   ]
  },
  {
   "cell_type": "code",
   "execution_count": 58,
   "metadata": {
    "slideshow": {
     "slide_type": "fragment"
    }
   },
   "outputs": [
    {
     "name": "stdout",
     "output_type": "stream",
     "text": [
      "original sequence:\t AGTCCGAAACCCTTA\n",
      "reverse complement:\t TAAGGGTTTCGGACT\n"
     ]
    }
   ],
   "source": [
    "seq = \"AGTCCGAAACCCTTA\"\n",
    "seq_ = []\n",
    "\n",
    "for base in seq[::-1]:\n",
    "    if base == 'A':\n",
    "        seq_.append('T')\n",
    "    elif base == 'T':\n",
    "        seq_.append('A')\n",
    "    elif base == 'C':\n",
    "        seq_.append('G')\n",
    "    else:\n",
    "        seq_.append('C')\n",
    "\n",
    "seq_rc = \"\".join(seq_)  # 将字符连接成一个字符串\n",
    "\n",
    "print(\"original sequence:\\t\", seq)\n",
    "print(\"reverse complement:\\t\", seq_rc)"
   ]
  },
  {
   "cell_type": "markdown",
   "metadata": {
    "slideshow": {
     "slide_type": "fragment"
    }
   },
   "source": [
    "至此为止，我们总算是能写一点像程序的东西了。"
   ]
  },
  {
   "cell_type": "markdown",
   "metadata": {
    "slideshow": {
     "slide_type": "slide"
    }
   },
   "source": [
    "## Dict\n",
    "![hash_table](https://upload.wikimedia.org/wikipedia/commons/thumb/7/7d/Hash_table_3_1_1_0_1_0_0_SP.svg/473px-Hash_table_3_1_1_0_1_0_0_SP.svg.png)\n",
    "\n",
    "`dict` 或者说是字典，是一种用于存储 “键-值对”(key-value pair) 的数据结构，它能够使你根据一个“键”快速地将它所对应的“值”给取出来。\n",
    "就像查“字典”的时候你能根据一个字的发音快速索引到这个字的解释一样。"
   ]
  },
  {
   "cell_type": "markdown",
   "metadata": {
    "slideshow": {
     "slide_type": "subslide"
    }
   },
   "source": [
    "比如我们创建一个存储电话号码的字典："
   ]
  },
  {
   "cell_type": "code",
   "execution_count": 64,
   "metadata": {
    "slideshow": {
     "slide_type": "fragment"
    }
   },
   "outputs": [],
   "source": [
    "# 创建一个字典，其中存储了 三个人 名字到 电话号码的映射\n",
    "phone_book = {\n",
    "    \"jojo\": \"521-8976\",\n",
    "    \"lisa lisa\": \"521-1234\",\n",
    "    \"dio\": \"521-9655\",\n",
    "}"
   ]
  },
  {
   "cell_type": "markdown",
   "metadata": {
    "slideshow": {
     "slide_type": "fragment"
    }
   },
   "source": [
    "就像取元素时 `list` 那样，取 `dict` 的元素只需要 在 `[]`中填入键(key)，就会返回它所对应的值(value)"
   ]
  },
  {
   "cell_type": "code",
   "execution_count": 65,
   "metadata": {
    "slideshow": {
     "slide_type": "fragment"
    }
   },
   "outputs": [
    {
     "data": {
      "text/plain": [
       "'521-8976'"
      ]
     },
     "execution_count": 65,
     "metadata": {},
     "output_type": "execute_result"
    }
   ],
   "source": [
    "phone_book[\"jojo\"]"
   ]
  },
  {
   "cell_type": "code",
   "execution_count": 66,
   "metadata": {
    "slideshow": {
     "slide_type": "-"
    }
   },
   "outputs": [
    {
     "data": {
      "text/plain": [
       "'521-9655'"
      ]
     },
     "execution_count": 66,
     "metadata": {},
     "output_type": "execute_result"
    }
   ],
   "source": [
    "phone_book[\"dio\"]"
   ]
  },
  {
   "cell_type": "markdown",
   "metadata": {
    "slideshow": {
     "slide_type": "fragment"
    }
   },
   "source": [
    "需要注意 dict 的键是不能重复的："
   ]
  },
  {
   "cell_type": "code",
   "execution_count": 102,
   "metadata": {
    "slideshow": {
     "slide_type": "-"
    }
   },
   "outputs": [],
   "source": [
    "d_ = {\n",
    "    'a': 1,\n",
    "    'a': 2\n",
    "}"
   ]
  },
  {
   "cell_type": "code",
   "execution_count": 103,
   "metadata": {
    "slideshow": {
     "slide_type": "-"
    }
   },
   "outputs": [
    {
     "data": {
      "text/plain": [
       "{'a': 2}"
      ]
     },
     "execution_count": 103,
     "metadata": {},
     "output_type": "execute_result"
    }
   ],
   "source": [
    "d_"
   ]
  },
  {
   "cell_type": "markdown",
   "metadata": {
    "slideshow": {
     "slide_type": "fragment"
    }
   },
   "source": [
    "我们可以对字典进行迭代："
   ]
  },
  {
   "cell_type": "code",
   "execution_count": 68,
   "metadata": {
    "slideshow": {
     "slide_type": "-"
    }
   },
   "outputs": [
    {
     "name": "stdout",
     "output_type": "stream",
     "text": [
      "jojo\n",
      "lisa lisa\n",
      "dio\n"
     ]
    }
   ],
   "source": [
    "for k in phone_book.keys():  # 迭代键\n",
    "    print(k)"
   ]
  },
  {
   "cell_type": "code",
   "execution_count": 69,
   "metadata": {
    "slideshow": {
     "slide_type": "-"
    }
   },
   "outputs": [
    {
     "name": "stdout",
     "output_type": "stream",
     "text": [
      "521-8976\n",
      "521-1234\n",
      "521-9655\n"
     ]
    }
   ],
   "source": [
    "for v in phone_book.values(): # 迭代值\n",
    "    print(v)"
   ]
  },
  {
   "cell_type": "code",
   "execution_count": 70,
   "metadata": {
    "slideshow": {
     "slide_type": "-"
    }
   },
   "outputs": [
    {
     "name": "stdout",
     "output_type": "stream",
     "text": [
      "jojo 521-8976\n",
      "lisa lisa 521-1234\n",
      "dio 521-9655\n"
     ]
    }
   ],
   "source": [
    "for k, v in phone_book.items(): # 迭代键值对\n",
    "    print(k, v)"
   ]
  },
  {
   "cell_type": "markdown",
   "metadata": {},
   "source": [
    "但要注意，我们通常认为dict是无序的，虽然 Python3 的 dict 实现是有序的，但这并未列入标准，所以最好不要把它当成一个有序的结构，如果需要一个有序的字典，请使用 `collections.OrderedDict`"
   ]
  },
  {
   "cell_type": "code",
   "execution_count": 84,
   "metadata": {},
   "outputs": [
    {
     "data": {
      "text/plain": [
       "collections.OrderedDict"
      ]
     },
     "execution_count": 84,
     "metadata": {},
     "output_type": "execute_result"
    }
   ],
   "source": [
    "from collections import OrderedDict\n",
    "\n",
    "od = OrderedDict({\n",
    "    \"a\": 1,\n",
    "    \"b\": 2,\n",
    "    \"c\": 3\n",
    "})\n",
    "\n",
    "type(od)"
   ]
  },
  {
   "cell_type": "markdown",
   "metadata": {
    "slideshow": {
     "slide_type": "subslide"
    }
   },
   "source": [
    "你也许注意到了，其实list也可以用来存储“键值对”。比如："
   ]
  },
  {
   "cell_type": "code",
   "execution_count": 72,
   "metadata": {
    "slideshow": {
     "slide_type": "-"
    }
   },
   "outputs": [],
   "source": [
    "phone_number_list = [\n",
    "    [\"jojo\", \"521-8976\"],\n",
    "    [\"lisa lisa\", \"521-1234\"],\n",
    "    [\"dio\", \"521-9655\"]\n",
    "]"
   ]
  },
  {
   "cell_type": "markdown",
   "metadata": {
    "slideshow": {
     "slide_type": "-"
    }
   },
   "source": [
    "而且使用一个 for 循环也能取出 key 对应的 value: "
   ]
  },
  {
   "cell_type": "code",
   "execution_count": 73,
   "metadata": {
    "slideshow": {
     "slide_type": "-"
    }
   },
   "outputs": [
    {
     "data": {
      "text/plain": [
       "'521-9655'"
      ]
     },
     "execution_count": 73,
     "metadata": {},
     "output_type": "execute_result"
    }
   ],
   "source": [
    "k = \"dio\"\n",
    "for p in phone_number_list:\n",
    "    if p[0] == k:\n",
    "        v = p[1]\n",
    "        break\n",
    "v"
   ]
  },
  {
   "cell_type": "markdown",
   "metadata": {
    "slideshow": {
     "slide_type": "-"
    }
   },
   "source": [
    "但事实上，Python 的字典具有很好的性能，对于查找操作而言反应非常迅速，这是 list 所无法比拟的。"
   ]
  },
  {
   "cell_type": "markdown",
   "metadata": {
    "slideshow": {
     "slide_type": "subslide"
    }
   },
   "source": [
    "实际上对于 Python 解释器的实现而言，字典是一种非常重要的数据结构。其实变量以及变量的值也是存在一个字典当中的："
   ]
  },
  {
   "cell_type": "code",
   "execution_count": 75,
   "metadata": {
    "slideshow": {
     "slide_type": "-"
    }
   },
   "outputs": [],
   "source": [
    "global_dict = globals()  # 这个 global_dict 里面保存了解释器当前状态下所有的全局变量的名字和值"
   ]
  },
  {
   "cell_type": "code",
   "execution_count": 79,
   "metadata": {
    "slideshow": {
     "slide_type": "-"
    }
   },
   "outputs": [
    {
     "name": "stdout",
     "output_type": "stream",
     "text": [
      "False\n",
      "True\n"
     ]
    },
    {
     "data": {
      "text/plain": [
       "'ko no dio da!'"
      ]
     },
     "execution_count": 79,
     "metadata": {},
     "output_type": "execute_result"
    }
   ],
   "source": [
    "print(\"dio\" in global_dict)  # 这里我们还没有定义 dio 这个变量，所以 \"dio\" 不在 global_dict 中\n",
    "dio = \"ko no dio da!\"  # 定义一个叫 dio 的全局变量\n",
    "print(\"dio\" in global_dict)\n",
    "global_dict[\"dio\"]"
   ]
  },
  {
   "cell_type": "markdown",
   "metadata": {
    "slideshow": {
     "slide_type": "fragment"
    }
   },
   "source": [
    "所以，你完全可以通过这种方式赋值："
   ]
  },
  {
   "cell_type": "code",
   "execution_count": 80,
   "metadata": {
    "slideshow": {
     "slide_type": "-"
    }
   },
   "outputs": [
    {
     "data": {
      "text/plain": [
       "'jotaro'"
      ]
     },
     "execution_count": 80,
     "metadata": {},
     "output_type": "execute_result"
    }
   ],
   "source": [
    "global_dict['jojo'] = 'jotaro'\n",
    "jojo"
   ]
  },
  {
   "cell_type": "markdown",
   "metadata": {
    "slideshow": {
     "slide_type": "-"
    }
   },
   "source": [
    "但你做好不要这样做，使用赋值语句的代码显然可读性更强。"
   ]
  },
  {
   "cell_type": "markdown",
   "metadata": {
    "slideshow": {
     "slide_type": "slide"
    }
   },
   "source": [
    "## Set\n",
    "\n",
    "![](https://upload.wikimedia.org/wikipedia/commons/thumb/6/6d/Venn_A_intersect_B.svg/330px-Venn_A_intersect_B.svg.png)"
   ]
  },
  {
   "cell_type": "markdown",
   "metadata": {
    "slideshow": {
     "slide_type": "subslide"
    }
   },
   "source": [
    "如果你学过一点集合论的话，你就很清楚什么是 `set`，以及`set`的交并差运算，这个 `set` 就算那个“集合“在Python中的实现:"
   ]
  },
  {
   "cell_type": "code",
   "execution_count": 92,
   "metadata": {
    "slideshow": {
     "slide_type": "-"
    }
   },
   "outputs": [],
   "source": [
    "# 定义两个集合 A B\n",
    "A = {\"唱\", \"跳\", \"rap\", \"篮球\", \"music\"}\n",
    "B = {\"Python\", \"篮球\", \"music\"}"
   ]
  },
  {
   "cell_type": "code",
   "execution_count": 93,
   "metadata": {
    "slideshow": {
     "slide_type": "-"
    }
   },
   "outputs": [
    {
     "name": "stdout",
     "output_type": "stream",
     "text": [
      "5\n",
      "3\n"
     ]
    }
   ],
   "source": [
    "print(len(A))\n",
    "print(len(B))"
   ]
  },
  {
   "cell_type": "code",
   "execution_count": 94,
   "metadata": {
    "slideshow": {
     "slide_type": "-"
    }
   },
   "outputs": [
    {
     "data": {
      "text/plain": [
       "{'music', '篮球'}"
      ]
     },
     "execution_count": 94,
     "metadata": {},
     "output_type": "execute_result"
    }
   ],
   "source": [
    "A & B  # A 与 B 的交集"
   ]
  },
  {
   "cell_type": "code",
   "execution_count": 95,
   "metadata": {
    "slideshow": {
     "slide_type": "-"
    }
   },
   "outputs": [
    {
     "data": {
      "text/plain": [
       "{'Python', 'music', 'rap', '唱', '篮球', '跳'}"
      ]
     },
     "execution_count": 95,
     "metadata": {},
     "output_type": "execute_result"
    }
   ],
   "source": [
    "A | B # A 与 B 的并集"
   ]
  },
  {
   "cell_type": "code",
   "execution_count": 96,
   "metadata": {
    "slideshow": {
     "slide_type": "-"
    }
   },
   "outputs": [
    {
     "data": {
      "text/plain": [
       "{'rap', '唱', '跳'}"
      ]
     },
     "execution_count": 96,
     "metadata": {},
     "output_type": "execute_result"
    }
   ],
   "source": [
    "A - B # A 与 B 的差集"
   ]
  },
  {
   "cell_type": "markdown",
   "metadata": {
    "slideshow": {
     "slide_type": "subslide"
    }
   },
   "source": [
    "需要注意，`set`之中是不存在重复元素的："
   ]
  },
  {
   "cell_type": "code",
   "execution_count": 97,
   "metadata": {
    "slideshow": {
     "slide_type": "-"
    }
   },
   "outputs": [
    {
     "data": {
      "text/plain": [
       "{'music', 'rap', '唱', '篮球', '跳'}"
      ]
     },
     "execution_count": 97,
     "metadata": {},
     "output_type": "execute_result"
    }
   ],
   "source": [
    "A "
   ]
  },
  {
   "cell_type": "code",
   "execution_count": 98,
   "metadata": {
    "slideshow": {
     "slide_type": "-"
    }
   },
   "outputs": [
    {
     "data": {
      "text/plain": [
       "{'music', 'rap', '唱', '篮球', '跳'}"
      ]
     },
     "execution_count": 98,
     "metadata": {},
     "output_type": "execute_result"
    }
   ],
   "source": [
    "A.add('rap') # 试图向 A 中再加一个 rap\n",
    "A # 但并不会发生变化"
   ]
  },
  {
   "cell_type": "markdown",
   "metadata": {
    "slideshow": {
     "slide_type": "-"
    }
   },
   "source": [
    "可以利用这个特性对 list 中的元素进行去重操作："
   ]
  },
  {
   "cell_type": "code",
   "execution_count": 99,
   "metadata": {
    "slideshow": {
     "slide_type": "-"
    }
   },
   "outputs": [],
   "source": [
    "lis = [1, 1, 4, 5, 1, 4]"
   ]
  },
  {
   "cell_type": "code",
   "execution_count": 101,
   "metadata": {
    "slideshow": {
     "slide_type": "-"
    }
   },
   "outputs": [
    {
     "data": {
      "text/plain": [
       "[1, 4, 5]"
      ]
     },
     "execution_count": 101,
     "metadata": {},
     "output_type": "execute_result"
    }
   ],
   "source": [
    "list(set(lis))"
   ]
  },
  {
   "cell_type": "markdown",
   "metadata": {
    "slideshow": {
     "slide_type": "-"
    }
   },
   "source": [
    "与 `dict` 一样，`set` 也是基于 hash 实现的，所以判断一个元素是否在 `set` 中这一操作也具有比较好的性能。"
   ]
  },
  {
   "cell_type": "code",
   "execution_count": 104,
   "metadata": {
    "slideshow": {
     "slide_type": "-"
    }
   },
   "outputs": [
    {
     "data": {
      "text/plain": [
       "True"
      ]
     },
     "execution_count": 104,
     "metadata": {},
     "output_type": "execute_result"
    }
   ],
   "source": [
    "'music' in A"
   ]
  },
  {
   "cell_type": "markdown",
   "metadata": {
    "slideshow": {
     "slide_type": "slide"
    }
   },
   "source": [
    "## Tuple"
   ]
  },
  {
   "cell_type": "markdown",
   "metadata": {
    "slideshow": {
     "slide_type": "subslide"
    }
   },
   "source": [
    "`tuple` 是什么呢？总体来说，它和 `list` 很像，但它是不可变(immutable)的。也就是说你不能像修改、添加、删除 `list` 的元素那样对 `tuple` 进行操作。"
   ]
  },
  {
   "cell_type": "code",
   "execution_count": 109,
   "metadata": {
    "slideshow": {
     "slide_type": "-"
    }
   },
   "outputs": [
    {
     "name": "stdout",
     "output_type": "stream",
     "text": [
      "<class 'tuple'>\n"
     ]
    },
    {
     "data": {
      "text/plain": [
       "2"
      ]
     },
     "execution_count": 109,
     "metadata": {},
     "output_type": "execute_result"
    }
   ],
   "source": [
    "t = (1,2,3)\n",
    "print(type(t))\n",
    "t[1]"
   ]
  },
  {
   "cell_type": "code",
   "execution_count": 63,
   "metadata": {
    "slideshow": {
     "slide_type": "-"
    }
   },
   "outputs": [
    {
     "ename": "TypeError",
     "evalue": "'tuple' object does not support item assignment",
     "output_type": "error",
     "traceback": [
      "\u001b[0;31m---------------------------------------------------------------------------\u001b[0m",
      "\u001b[0;31mTypeError\u001b[0m                                 Traceback (most recent call last)",
      "\u001b[0;32m<ipython-input-63-bb6134476d7c>\u001b[0m in \u001b[0;36m<module>\u001b[0;34m()\u001b[0m\n\u001b[0;32m----> 1\u001b[0;31m \u001b[0mt\u001b[0m\u001b[0;34m[\u001b[0m\u001b[0;36m0\u001b[0m\u001b[0;34m]\u001b[0m \u001b[0;34m=\u001b[0m \u001b[0;36m1\u001b[0m \u001b[0;31m# 试图修改 tuple 中的元素，发生错误\u001b[0m\u001b[0;34m\u001b[0m\u001b[0m\n\u001b[0m",
      "\u001b[0;31mTypeError\u001b[0m: 'tuple' object does not support item assignment"
     ]
    }
   ],
   "source": [
    "t[0] = 1 # 试图修改 tuple 中的元素，发生错误"
   ]
  },
  {
   "cell_type": "markdown",
   "metadata": {
    "slideshow": {
     "slide_type": "subslide"
    }
   },
   "source": [
    "你可能会想既然不如`list`功能强大，那为什么还要有 `tuple` 呢？\n",
    "\n",
    "首先，与 `list` 不同，`tuple` 是 `hashable` 的，意味着 tuple 可以用来作为 `dict` 的键，而 `list` 就不行："
   ]
  },
  {
   "cell_type": "code",
   "execution_count": 107,
   "metadata": {
    "slideshow": {
     "slide_type": "-"
    }
   },
   "outputs": [
    {
     "data": {
      "text/plain": [
       "1"
      ]
     },
     "execution_count": 107,
     "metadata": {},
     "output_type": "execute_result"
    }
   ],
   "source": [
    "d_ = {\n",
    "    ('a', 'b'): 1\n",
    "}\n",
    "\n",
    "d_[('a', 'b')]"
   ]
  },
  {
   "cell_type": "code",
   "execution_count": 108,
   "metadata": {
    "slideshow": {
     "slide_type": "-"
    }
   },
   "outputs": [
    {
     "ename": "TypeError",
     "evalue": "unhashable type: 'list'",
     "output_type": "error",
     "traceback": [
      "\u001b[0;31m---------------------------------------------------------------------------\u001b[0m",
      "\u001b[0;31mTypeError\u001b[0m                                 Traceback (most recent call last)",
      "\u001b[0;32m<ipython-input-108-aa17c9f13d49>\u001b[0m in \u001b[0;36m<module>\u001b[0;34m()\u001b[0m\n\u001b[1;32m      1\u001b[0m d_ = {\n\u001b[0;32m----> 2\u001b[0;31m     \u001b[0;34m[\u001b[0m\u001b[0;34m'a'\u001b[0m\u001b[0;34m,\u001b[0m \u001b[0;34m'b'\u001b[0m\u001b[0;34m]\u001b[0m\u001b[0;34m:\u001b[0m \u001b[0;36m1\u001b[0m\u001b[0;34m\u001b[0m\u001b[0m\n\u001b[0m\u001b[1;32m      3\u001b[0m }\n\u001b[1;32m      4\u001b[0m \u001b[0md_\u001b[0m\u001b[0;34m[\u001b[0m\u001b[0;34m[\u001b[0m\u001b[0;34m'a'\u001b[0m\u001b[0;34m,\u001b[0m \u001b[0;34m'b'\u001b[0m\u001b[0;34m]\u001b[0m\u001b[0;34m]\u001b[0m\u001b[0;34m\u001b[0m\u001b[0m\n",
      "\u001b[0;31mTypeError\u001b[0m: unhashable type: 'list'"
     ]
    }
   ],
   "source": [
    "d_ = {  # 由于 list 是 unhashable的 会报错\n",
    "    ['a', 'b']: 1\n",
    "}\n",
    "d_[['a', 'b']]"
   ]
  },
  {
   "cell_type": "markdown",
   "metadata": {
    "slideshow": {
     "slide_type": "-"
    }
   },
   "source": [
    "并且，immutable 有时反而是更好的，比如在多线程中可以保证不会被修改，所以是安全的，而且 `tuple` 比 `list` 更加高效。\n",
    "而且我们在进行值交换以及函数的多返回值的时候用的也是 `tuple`"
   ]
  },
  {
   "cell_type": "markdown",
   "metadata": {
    "slideshow": {
     "slide_type": "subslide"
    }
   },
   "source": [
    "#### 单元素 tuple\n",
    "\n",
    "需要注意，创建单元素 tuple 字面量时，需要在元素后面加一个 ','，否则 会被当成表达式被求值："
   ]
  },
  {
   "cell_type": "code",
   "execution_count": 125,
   "metadata": {
    "slideshow": {
     "slide_type": "-"
    }
   },
   "outputs": [
    {
     "name": "stdout",
     "output_type": "stream",
     "text": [
      "<class 'int'>\n"
     ]
    },
    {
     "data": {
      "text/plain": [
       "1"
      ]
     },
     "execution_count": 125,
     "metadata": {},
     "output_type": "execute_result"
    }
   ],
   "source": [
    "t_ = (1)  # 这是错误的, X\n",
    "print(type(t_))\n",
    "t_"
   ]
  },
  {
   "cell_type": "code",
   "execution_count": 123,
   "metadata": {
    "slideshow": {
     "slide_type": "-"
    }
   },
   "outputs": [
    {
     "name": "stdout",
     "output_type": "stream",
     "text": [
      "<class 'tuple'>\n"
     ]
    },
    {
     "data": {
      "text/plain": [
       "(1,)"
      ]
     },
     "execution_count": 123,
     "metadata": {},
     "output_type": "execute_result"
    }
   ],
   "source": [
    "t_ = (1,)  # 这才对 √\n",
    "print(type(t_))\n",
    "t_"
   ]
  },
  {
   "cell_type": "markdown",
   "metadata": {
    "slideshow": {
     "slide_type": "subslide"
    }
   },
   "source": [
    "关于不可变型，需要注意的是：`tuple` 的不可变性指的是 `tuple` 本身不可变，但如果 tuple 内存的元素是可变的，这种不可变性无法得到保证，比如："
   ]
  },
  {
   "cell_type": "code",
   "execution_count": 115,
   "metadata": {
    "slideshow": {
     "slide_type": "-"
    }
   },
   "outputs": [],
   "source": [
    "t = ([],)"
   ]
  },
  {
   "cell_type": "code",
   "execution_count": 116,
   "metadata": {
    "slideshow": {
     "slide_type": "-"
    }
   },
   "outputs": [],
   "source": [
    "t[0].append(1)"
   ]
  },
  {
   "cell_type": "code",
   "execution_count": 118,
   "metadata": {
    "slideshow": {
     "slide_type": "-"
    }
   },
   "outputs": [
    {
     "data": {
      "text/plain": [
       "([1],)"
      ]
     },
     "execution_count": 118,
     "metadata": {},
     "output_type": "execute_result"
    }
   ],
   "source": [
    "t"
   ]
  },
  {
   "cell_type": "markdown",
   "metadata": {
    "slideshow": {
     "slide_type": "slide"
    }
   },
   "source": [
    "## 其他数据结构：collections\n",
    "\n",
    "此外在collections模块中，还有一些非常有用的数据结构，比如：\n",
    "\n",
    "+ deque\n",
    "+ namedtuple\n",
    "+ defaultdict\n",
    "+ ...\n",
    "\n",
    "这里就不再详细说了，请看[文档](https://docs.python.org/3.7/library/collections.html)"
   ]
  },
  {
   "cell_type": "markdown",
   "metadata": {
    "slideshow": {
     "slide_type": "slide"
    }
   },
   "source": [
    "## While 循环\n",
    "\n",
    "一般来说用 for loop 就表达绝大多数循环了，但 while 在表达“满足某一条件就循环(或者是就停下来)”时更加自然，\n",
    "并且可以创建一个（理论上）永远不停下来的循环。"
   ]
  },
  {
   "cell_type": "code",
   "execution_count": 133,
   "metadata": {
    "scrolled": true,
    "slideshow": {
     "slide_type": "-"
    }
   },
   "outputs": [
    {
     "name": "stdout",
     "output_type": "stream",
     "text": [
      "0 1 2 3 4 5 6 7 8 9 10 "
     ]
    }
   ],
   "source": [
    "c = 0\n",
    "while c <= 10: # 当 c < 10 的时候就循环\n",
    "    print(c, end=\" \")\n",
    "    c += 1"
   ]
  },
  {
   "cell_type": "code",
   "execution_count": 134,
   "metadata": {
    "slideshow": {
     "slide_type": "-"
    }
   },
   "outputs": [
    {
     "name": "stdout",
     "output_type": "stream",
     "text": [
      "0 1 2 3 4 5 6 7 8 9 10 "
     ]
    }
   ],
   "source": [
    "c = 0\n",
    "while True: # 没有break的话会一直运行\n",
    "    print(c, end=\" \")\n",
    "    if c == 10: # 到 10 就 break\n",
    "        break\n",
    "    c += 1"
   ]
  },
  {
   "cell_type": "markdown",
   "metadata": {
    "slideshow": {
     "slide_type": "slide"
    }
   },
   "source": [
    "## comprehension\n",
    "\n",
    "comprehension 是 Python 的一种语法糖(syntax sugar)，除了 tuple ，其他三种基本数据结构都有对应的 comprehension 语法。"
   ]
  },
  {
   "cell_type": "markdown",
   "metadata": {
    "slideshow": {
     "slide_type": "slide"
    }
   },
   "source": [
    "# 如何抽象？\n",
    "\n",
    "<img src=\"./img/ahua.jpg\" alt=\"Drawing\" style=\"width: 450px;\"/>\n",
    "\n",
    "                                                                --摘自《语言学的邀请》, Samuel Hayakawa"
   ]
  },
  {
   "cell_type": "markdown",
   "metadata": {
    "slideshow": {
     "slide_type": "-"
    }
   },
   "source": [
    " "
   ]
  },
  {
   "cell_type": "markdown",
   "metadata": {
    "slideshow": {
     "slide_type": "subslide"
    }
   },
   "source": [
    "### 抽象的目的:\n",
    "1. 消除重复代码。\n",
    "2. 屏蔽细节，把握本质。"
   ]
  },
  {
   "cell_type": "markdown",
   "metadata": {
    "slideshow": {
     "slide_type": "slide"
    }
   },
   "source": [
    "## 函数\n",
    "\n",
    "<img src=\"https://upload.wikimedia.org/wikipedia/commons/thumb/3/3b/Function_machine2.svg/330px-Function_machine2.svg.png\" alt=\"Drawing\" style=\"width: 250px;\"/>\n",
    "\n",
    "一般来说计算机语言中的 函数(function) 存在两层含义：\n",
    "1. 表示对象之间的映射关系。\n",
    "2. 对一个 过程(procedure) 的抽象。"
   ]
  },
  {
   "cell_type": "markdown",
   "metadata": {
    "slideshow": {
     "slide_type": "subslide"
    }
   },
   "source": [
    "让我们先来定义一个非常简单的函数用来计算一个人的 BMI 。"
   ]
  },
  {
   "cell_type": "code",
   "execution_count": 135,
   "metadata": {
    "slideshow": {
     "slide_type": "-"
    }
   },
   "outputs": [],
   "source": [
    "def get_BMI(weight, height):\n",
    "    bmi = weight / height**2\n",
    "    return bmi"
   ]
  },
  {
   "cell_type": "markdown",
   "metadata": {
    "slideshow": {
     "slide_type": "-"
    }
   },
   "source": [
    "这个函数的输入是 体重与身高，输出的是 BMI，也可以认为这个函数就是 身高体重到BMI的映射 `weight, height) -> BMI`"
   ]
  },
  {
   "cell_type": "code",
   "execution_count": 139,
   "metadata": {
    "slideshow": {
     "slide_type": "-"
    }
   },
   "outputs": [
    {
     "data": {
      "text/plain": [
       "21.484374999999996"
      ]
     },
     "execution_count": 139,
     "metadata": {},
     "output_type": "execute_result"
    }
   ],
   "source": [
    "get_BMI(55, 1.60)"
   ]
  },
  {
   "cell_type": "markdown",
   "metadata": {
    "slideshow": {
     "slide_type": "subslide"
    }
   },
   "source": [
    "另外有些时候，函数的目的不是为了表达这种映射关系，而是表达一个过程(procedure)，比如，\n",
    "我们定义一个函数来表达一个做菜的过程："
   ]
  },
  {
   "cell_type": "code",
   "execution_count": 151,
   "metadata": {
    "slideshow": {
     "slide_type": "fragment"
    }
   },
   "outputs": [],
   "source": [
    "def cook(food):\n",
    "    print(f\"cook {food}：\")\n",
    "    print(f\"1. 将 {food} 裹上面包糠。\")\n",
    "    print(f\"2. 把裹上面包糠的 {food} 炸至金黄。\")\n",
    "    print(f\"3. 出锅装盘\")\n",
    "    print(\"隔壁小孩都谗哭了！\")\n",
    "    print(\"\")"
   ]
  },
  {
   "cell_type": "code",
   "execution_count": 152,
   "metadata": {
    "slideshow": {
     "slide_type": "-"
    }
   },
   "outputs": [
    {
     "name": "stdout",
     "output_type": "stream",
     "text": [
      "cook 土豆：\n",
      "1. 将 土豆 裹上面包糠。\n",
      "2. 把裹上面包糠的 土豆 炸至金黄。\n",
      "3. 出锅装盘\n",
      "隔壁小孩都谗哭了！\n",
      "\n",
      "cook 南瓜：\n",
      "1. 将 南瓜 裹上面包糠。\n",
      "2. 把裹上面包糠的 南瓜 炸至金黄。\n",
      "3. 出锅装盘\n",
      "隔壁小孩都谗哭了！\n",
      "\n",
      "cook 西瓜皮：\n",
      "1. 将 西瓜皮 裹上面包糠。\n",
      "2. 把裹上面包糠的 西瓜皮 炸至金黄。\n",
      "3. 出锅装盘\n",
      "隔壁小孩都谗哭了！\n",
      "\n"
     ]
    }
   ],
   "source": [
    "cook(\"土豆\")\n",
    "cook(\"南瓜\")\n",
    "cook(\"西瓜皮\")"
   ]
  },
  {
   "cell_type": "markdown",
   "metadata": {
    "slideshow": {
     "slide_type": "fragment"
    }
   },
   "source": [
    "注意，这个`cook`函数并没有返回值（其实返回了`None`，但我们并不在意），所以它并不代表某种映射关系，而是将这个料理的过程进行了抽象，使得代码得到了简化，如果不用函数，原本3行的代码就要变成18(3*6)行了，并且使用使用函数还增加了代码的可读性，清晰易懂，我们料理了三种食物。"
   ]
  },
  {
   "cell_type": "markdown",
   "metadata": {
    "slideshow": {
     "slide_type": "subslide"
    }
   },
   "source": [
    "#### 默认参数\n",
    "\n",
    "有时候函数的参数特别多，每次调用都要输入一大串参数，使用默认参数(也叫关键字参数)可以一定程度上解决这个问题。"
   ]
  },
  {
   "cell_type": "code",
   "execution_count": 154,
   "metadata": {
    "slideshow": {
     "slide_type": "-"
    }
   },
   "outputs": [],
   "source": [
    "def sum5(a,b,c,d,e):  # 一个参数很多的函数\n",
    "    return a+b+c+d+e"
   ]
  },
  {
   "cell_type": "code",
   "execution_count": 155,
   "metadata": {
    "slideshow": {
     "slide_type": "-"
    }
   },
   "outputs": [
    {
     "data": {
      "text/plain": [
       "15"
      ]
     },
     "execution_count": 155,
     "metadata": {},
     "output_type": "execute_result"
    }
   ],
   "source": [
    "sum5(1,2,3,4,5)"
   ]
  },
  {
   "cell_type": "code",
   "execution_count": 156,
   "metadata": {
    "slideshow": {
     "slide_type": "-"
    }
   },
   "outputs": [],
   "source": [
    "def sum5_kw(a,b,c=0,d=0,e=0):\n",
    "    return a+b+c+d+e"
   ]
  },
  {
   "cell_type": "code",
   "execution_count": 160,
   "metadata": {
    "slideshow": {
     "slide_type": "-"
    }
   },
   "outputs": [
    {
     "name": "stdout",
     "output_type": "stream",
     "text": [
      "3\n",
      "6\n",
      "8\n"
     ]
    }
   ],
   "source": [
    "print(sum5_kw(1,2))\n",
    "print(sum5_kw(1,2,3))\n",
    "print(sum5_kw(1,2, e=5))  # 按关键字传入"
   ]
  },
  {
   "cell_type": "markdown",
   "metadata": {
    "slideshow": {
     "slide_type": "subslide"
    }
   },
   "source": [
    "### 局部变量\n",
    "\n",
    "到目前为止，我们定义的变量大多都是全局变量，也就是说它被储存在了全局环境`globals()`中，而我们在函数内部创建的变量是一种局部变量，也就是说这些变量一般来说仅在函数内部能够被访问。"
   ]
  },
  {
   "cell_type": "code",
   "execution_count": 181,
   "metadata": {
    "slideshow": {
     "slide_type": "-"
    }
   },
   "outputs": [
    {
     "name": "stdout",
     "output_type": "stream",
     "text": [
      "outer1: 1\n",
      "outer2: 1\n",
      "inner: 2\n",
      "outer3: 1\n"
     ]
    }
   ],
   "source": [
    "a = 1\n",
    "\n",
    "print(f\"outer1: {a}\")\n",
    "\n",
    "def func1():\n",
    "    a = 2\n",
    "    print(f\"inner: {a}\")\n",
    "\n",
    "print(f\"outer2: {a}\")\n",
    "func1()\n",
    "print(f\"outer3: {a}\")\n"
   ]
  },
  {
   "cell_type": "markdown",
   "metadata": {
    "slideshow": {
     "slide_type": "-"
    }
   },
   "source": [
    "和 `globals` 函数类似， `locals` 可以得到函数内的局部环境的字典："
   ]
  },
  {
   "cell_type": "code",
   "execution_count": 185,
   "metadata": {
    "slideshow": {
     "slide_type": "-"
    }
   },
   "outputs": [
    {
     "name": "stdout",
     "output_type": "stream",
     "text": [
      "{'a': 2}\n"
     ]
    }
   ],
   "source": [
    "def func1():\n",
    "    a = 2\n",
    "    print(locals())\n",
    "    \n",
    "func1()"
   ]
  },
  {
   "cell_type": "code",
   "execution_count": 187,
   "metadata": {
    "slideshow": {
     "slide_type": "-"
    }
   },
   "outputs": [
    {
     "name": "stdout",
     "output_type": "stream",
     "text": [
      "1\n",
      "1\n",
      "2\n"
     ]
    }
   ],
   "source": [
    "x = 1\n",
    "\n",
    "def func2():\n",
    "    global x  # 访问 global 变量\n",
    "    print(x)\n",
    "    x = 2\n",
    "\n",
    "print(x)\n",
    "func2()\n",
    "print(x)"
   ]
  },
  {
   "cell_type": "markdown",
   "metadata": {
    "slideshow": {
     "slide_type": "slide"
    }
   },
   "source": [
    "### 递归\n",
    "\n",
    "![](https://upload.wikimedia.org/wikipedia/commons/thumb/d/d9/Droste_Cacao_Alcalinise_blikje%2C_foto4.JPG/330px-Droste_Cacao_Alcalinise_blikje%2C_foto4.JPG)"
   ]
  },
  {
   "cell_type": "markdown",
   "metadata": {
    "slideshow": {
     "slide_type": "subslide"
    }
   },
   "source": [
    "在 Python 中，函数调用自身这种行为时被允许的，如果一个函数的定义中调用了自己，这个函数称之为递归函数。\n",
    "举个例子，斐波纳契数列就可以被递归定义：\n",
    "\n",
    "\\begin{equation*}\n",
    "    f(n) = \\begin{cases}\n",
    "               0               & n = 0\\\\\n",
    "               1               & n = 1\\\\\n",
    "               f(n-1) + f(n-2) & \\text{otherwise}\n",
    "           \\end{cases}\n",
    "\\end{equation*}\n",
    "\n"
   ]
  },
  {
   "cell_type": "code",
   "execution_count": 193,
   "metadata": {
    "slideshow": {
     "slide_type": "-"
    }
   },
   "outputs": [],
   "source": [
    "def fib(n):\n",
    "    if n <= 1:\n",
    "        return n\n",
    "    else:\n",
    "        return fib(n-1) + fib(n-2)"
   ]
  },
  {
   "cell_type": "code",
   "execution_count": 194,
   "metadata": {
    "slideshow": {
     "slide_type": "-"
    }
   },
   "outputs": [
    {
     "data": {
      "text/plain": [
       "[0, 1, 1, 2, 3, 5, 8, 13, 21, 34]"
      ]
     },
     "execution_count": 194,
     "metadata": {},
     "output_type": "execute_result"
    }
   ],
   "source": [
    "[fib(i) for i in range(10)]"
   ]
  },
  {
   "cell_type": "markdown",
   "metadata": {
    "slideshow": {
     "slide_type": "subslide"
    }
   },
   "source": [
    "但实际上这种 `fib` 的定义效率很差，因为存在大量的重复计算。比如说计算 `fib(4)`，计算是被这样展开的：\n",
    "\n",
    "```\n",
    "                                               fib(4)\n",
    "                                              /      \\\n",
    "                                         fib(3)      fib(2)\n",
    "                                          /  \\       /    \\\n",
    "                                      fib(2) fib(1) fib(1) fib(0)\n",
    "                                      /    \\\n",
    "                                   fib(0) fib(1)\n",
    "```\n",
    "\n",
    "看到其中`fib(2)`被调用了2次，这才是`fib(4)`，当 n 很大时，重复计算会更多，实际上这时的算法复杂度为 $O(2^n)$，这是非常糟糕的。"
   ]
  },
  {
   "cell_type": "markdown",
   "metadata": {
    "slideshow": {
     "slide_type": "-"
    }
   },
   "source": [
    "一种解决方案是将计算过的值储存起来，再次遇到同样的输入时不必再做重复计算，这种技术称之为 Memoization，比如说："
   ]
  },
  {
   "cell_type": "code",
   "execution_count": 209,
   "metadata": {
    "slideshow": {
     "slide_type": "-"
    }
   },
   "outputs": [],
   "source": [
    "cache_ = {}\n",
    "def fib_cached(n):\n",
    "    if n in cache_:  # 输入已经被 cache， 直接输出\n",
    "        return cache_[n]\n",
    "    else:\n",
    "        if n <= 1:\n",
    "            res = n\n",
    "        else:\n",
    "            res = fib_cached(n-1) + fib_cached(n-2)\n",
    "        cache_[n] = res # 将计算结果存其来\n",
    "        return res"
   ]
  },
  {
   "cell_type": "code",
   "execution_count": 210,
   "metadata": {
    "slideshow": {
     "slide_type": "-"
    }
   },
   "outputs": [
    {
     "data": {
      "text/plain": [
       "[0, 1, 1, 2, 3, 5, 8, 13, 21, 34]"
      ]
     },
     "execution_count": 210,
     "metadata": {},
     "output_type": "execute_result"
    }
   ],
   "source": [
    "[fib_cached(i) for i in range(10)]"
   ]
  },
  {
   "cell_type": "code",
   "execution_count": 211,
   "metadata": {
    "slideshow": {
     "slide_type": "-"
    }
   },
   "outputs": [
    {
     "data": {
      "text/plain": [
       "354224848179261915075"
      ]
     },
     "execution_count": 211,
     "metadata": {},
     "output_type": "execute_result"
    }
   ],
   "source": [
    "fib_cached(100)"
   ]
  },
  {
   "cell_type": "markdown",
   "metadata": {
    "slideshow": {
     "slide_type": "-"
    }
   },
   "source": [
    "### 模拟迭代\n",
    "\n",
    "实际上，递归可以用来模拟 for 循环，比如我们要迭代一个列表，打印其中每一个元素："
   ]
  },
  {
   "cell_type": "code",
   "execution_count": 214,
   "metadata": {
    "slideshow": {
     "slide_type": "-"
    }
   },
   "outputs": [],
   "source": [
    "def mimic_for_print(lis):\n",
    "    if not lis: # 列表为空\n",
    "        return\n",
    "    else:\n",
    "        h = lis[0]\n",
    "        t = lis[1:]\n",
    "        print(h, end=\" \")\n",
    "        mimic_for_print(t)"
   ]
  },
  {
   "cell_type": "code",
   "execution_count": 215,
   "metadata": {
    "slideshow": {
     "slide_type": "-"
    }
   },
   "outputs": [
    {
     "name": "stdout",
     "output_type": "stream",
     "text": [
      "0 1 2 3 4 5 6 7 8 9 "
     ]
    }
   ],
   "source": [
    "mimic_for_print(list(range(10)))"
   ]
  },
  {
   "cell_type": "markdown",
   "metadata": {
    "slideshow": {
     "slide_type": "-"
    }
   },
   "source": [
    "既然for loop可以被递归来模拟，那么是不是我们不需要for loop了呢？其实在有 尾递归优化(TCO, tail call optimization)\n",
    "的语言中的确是这样的，但不幸 Python 暂时没有这个特性，会有函数栈带来的内存开销，而且for loop要比递归的效率高很多。"
   ]
  },
  {
   "cell_type": "markdown",
   "metadata": {
    "slideshow": {
     "slide_type": "slide"
    }
   },
   "source": [
    "### 函数也是一等公民\n",
    "\n",
    "在 Python 中，函数同其他类型的值具有同等的地位，也就是说，函数可以被赋值给变量，可以作为参数传递给另一个函数，函数可以作为函数的返回值。"
   ]
  },
  {
   "cell_type": "code",
   "execution_count": 192,
   "metadata": {
    "slideshow": {
     "slide_type": "-"
    }
   },
   "outputs": [
    {
     "name": "stdout",
     "output_type": "stream",
     "text": [
      "<class 'function'>\n"
     ]
    },
    {
     "data": {
      "text/plain": [
       "4"
      ]
     },
     "execution_count": 192,
     "metadata": {},
     "output_type": "execute_result"
    }
   ],
   "source": [
    "def square(x):\n",
    "    return x**2\n",
    "\n",
    "sq = square\n",
    "print(type(sq))\n",
    "sq(2)"
   ]
  },
  {
   "cell_type": "markdown",
   "metadata": {
    "slideshow": {
     "slide_type": "subslide"
    }
   },
   "source": [
    "### 高阶函数（higher order function）\n",
    "\n",
    "以**函数**作为**参数**或者**返回值**为函数的函数称之为高阶函数。"
   ]
  },
  {
   "cell_type": "markdown",
   "metadata": {
    "slideshow": {
     "slide_type": "subslide"
    }
   },
   "source": [
    "### 匿名函数 lambda\n",
    "\n",
    "Python 中我们还可以定义函数字面量，也就算是匿名函数或者 `lambda` 函数，比如："
   ]
  },
  {
   "cell_type": "code",
   "execution_count": 222,
   "metadata": {
    "slideshow": {
     "slide_type": "-"
    }
   },
   "outputs": [],
   "source": [
    "sq = lambda x: x**2  #定义一个匿名函数将其赋值给sq变量，其中 x 是参数，\":\" 后的 x**2 是返回值"
   ]
  },
  {
   "cell_type": "code",
   "execution_count": 223,
   "metadata": {
    "slideshow": {
     "slide_type": "-"
    }
   },
   "outputs": [
    {
     "data": {
      "text/plain": [
       "9"
      ]
     },
     "execution_count": 223,
     "metadata": {},
     "output_type": "execute_result"
    }
   ],
   "source": [
    "sq(3)"
   ]
  },
  {
   "cell_type": "markdown",
   "metadata": {
    "slideshow": {
     "slide_type": "-"
    }
   },
   "source": [
    "在使用 `map`, `reduce`, `filter`等高阶函数时，有时为了简便我们并不想定义一个正式的函数，这时候可以用`lambda`函数。\n",
    "比如："
   ]
  },
  {
   "cell_type": "code",
   "execution_count": 217,
   "metadata": {
    "slideshow": {
     "slide_type": "-"
    }
   },
   "outputs": [
    {
     "data": {
      "text/plain": [
       "[0, 1, 4, 9, 16, 25, 36, 49, 64, 81]"
      ]
     },
     "execution_count": 217,
     "metadata": {},
     "output_type": "execute_result"
    }
   ],
   "source": [
    "list( map(lambda x: x**2, range(10)) )"
   ]
  },
  {
   "cell_type": "code",
   "execution_count": 219,
   "metadata": {
    "slideshow": {
     "slide_type": "-"
    }
   },
   "outputs": [
    {
     "data": {
      "text/plain": [
       "[0, 3, 6, 9]"
      ]
     },
     "execution_count": 219,
     "metadata": {},
     "output_type": "execute_result"
    }
   ],
   "source": [
    "list( filter(lambda x: x%3 == 0, range(10)) )"
   ]
  },
  {
   "cell_type": "markdown",
   "metadata": {
    "slideshow": {
     "slide_type": "slide"
    }
   },
   "source": [
    "## 类与对象\n",
    "\n",
    "![class](https://upload.wikimedia.org/wikipedia/commons/thumb/4/41/BankAccount1.svg/318px-BankAccount1.svg.png)\n",
    "\n",
    "Python 中提供了基于类的面向对象编程机制，不同于函数，类是一种对于 一类具有相似**属性与行为**的对象 的抽象。\n",
    "类就像是一张建造蓝图(blueprint)，你以它为模板来制造对象。有了类，编程就从对过程的描述转变成了对属性与行为的描述。"
   ]
  },
  {
   "cell_type": "code",
   "execution_count": 176,
   "metadata": {
    "slideshow": {
     "slide_type": "subslide"
    }
   },
   "outputs": [],
   "source": [
    "class BankAccount(object):\n",
    "    def __init__(self, owner, balance=0):\n",
    "        self.owner = owner\n",
    "        self.balance = balance\n",
    "    \n",
    "    def deposit(self, amount):\n",
    "        self.balance += amount\n",
    "    \n",
    "    def withdrawal(self, amount):\n",
    "        if amount <= self.balance:\n",
    "            self.balance -= amount\n",
    "            return amount\n",
    "        else:\n",
    "            print(\"【警告】卡里钱不够！\")\n",
    "            return 0"
   ]
  },
  {
   "cell_type": "markdown",
   "metadata": {
    "slideshow": {
     "slide_type": "-"
    }
   },
   "source": [
    "定义了一个银行账户的类，这个类里面定义了三个方法(method): `__init__`，`deposit` 与 `withdrawal`。\n",
    "\n",
    "`__init__` 方法用来对对象进行初始化，这里传入了三个参数(`self`，`owner` 与 `balance`)，\n",
    "然后初始化过程将 `owner` 与 `balance` 赋值给了 `self` 的属性"
   ]
  },
  {
   "cell_type": "code",
   "execution_count": 177,
   "metadata": {
    "slideshow": {
     "slide_type": "fragment"
    }
   },
   "outputs": [],
   "source": [
    "acc = BankAccount(owner=\"Speedwagon\", balance=10**10) #新建一个银行账户，初始资金100亿"
   ]
  },
  {
   "cell_type": "code",
   "execution_count": 178,
   "metadata": {
    "slideshow": {
     "slide_type": "-"
    }
   },
   "outputs": [
    {
     "data": {
      "text/plain": [
       "5000000000"
      ]
     },
     "execution_count": 178,
     "metadata": {},
     "output_type": "execute_result"
    }
   ],
   "source": [
    "acc.withdrawal(5*(10**9))  # 取出来 50 亿"
   ]
  },
  {
   "cell_type": "code",
   "execution_count": 179,
   "metadata": {
    "slideshow": {
     "slide_type": "-"
    }
   },
   "outputs": [
    {
     "name": "stdout",
     "output_type": "stream",
     "text": [
      "【警告】卡里钱不够！\n"
     ]
    },
    {
     "data": {
      "text/plain": [
       "0"
      ]
     },
     "execution_count": 179,
     "metadata": {},
     "output_type": "execute_result"
    }
   ],
   "source": [
    "acc.withdrawal(6*(10**9)) # 试图再取 60 亿"
   ]
  },
  {
   "cell_type": "code",
   "execution_count": 180,
   "metadata": {
    "slideshow": {
     "slide_type": "-"
    }
   },
   "outputs": [
    {
     "data": {
      "text/plain": [
       "9000000000"
      ]
     },
     "execution_count": 180,
     "metadata": {},
     "output_type": "execute_result"
    }
   ],
   "source": [
    "acc.deposit(10**10)\n",
    "acc.withdrawal(6*(10**9))\n",
    "acc.balance"
   ]
  }
 ],
 "metadata": {
  "@webio": {
   "lastCommId": null,
   "lastKernelId": null
  },
  "celltoolbar": "幻灯片",
  "kernelspec": {
   "display_name": "Python 3",
   "language": "python",
   "name": "python3"
  },
  "language_info": {
   "codemirror_mode": {
    "name": "ipython",
    "version": 3
   },
   "file_extension": ".py",
   "mimetype": "text/x-python",
   "name": "python",
   "nbconvert_exporter": "python",
   "pygments_lexer": "ipython3",
   "version": "3.6.3"
  }
 },
 "nbformat": 4,
 "nbformat_minor": 2
}
