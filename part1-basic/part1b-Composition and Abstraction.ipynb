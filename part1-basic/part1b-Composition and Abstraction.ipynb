{
 "cells": [
  {
   "cell_type": "markdown",
   "metadata": {
    "slideshow": {
     "slide_type": "slide"
    }
   },
   "source": [
    "# Python Basic\n",
    "\n",
    "JCBioinformatics - 2019 - HZAU\n"
   ]
  },
  {
   "cell_type": "markdown",
   "metadata": {
    "slideshow": {
     "slide_type": "slide"
    }
   },
   "source": [
    "## 组合与抽象\n",
    "\n",
    "<img src=\"./img/sicp_0.png\" alt=\"Drawing\" style=\"width: 800px;\"/>"
   ]
  },
  {
   "cell_type": "markdown",
   "metadata": {
    "slideshow": {
     "slide_type": "subslide"
    }
   },
   "source": [
    "## Contents\n",
    "\n",
    "1. 如何组合\n",
    "    + 内置数据结构\n",
    "        - list / tuple / set / dict\n",
    "    + 控制流\n",
    "        - 循环 for / while\n",
    "        - 分支\n",
    "2. 如何抽象\n",
    "    + 函数\n",
    "    + 类与对象\n",
    "    + 选择一种编程范式\n"
   ]
  },
  {
   "cell_type": "markdown",
   "metadata": {
    "slideshow": {
     "slide_type": "slide"
    }
   },
   "source": [
    "## 如何组合\n",
    "\n",
    "<img src=\"https://upload.wikimedia.org/wikipedia/commons/0/0f/2_duplo_lego_bricks.jpg\" alt=\"Drawing\" style=\"width: 200px;\"/>\n"
   ]
  },
  {
   "cell_type": "markdown",
   "metadata": {
    "slideshow": {
     "slide_type": "subslide"
    }
   },
   "source": [
    "#### 1. 数据结构（对数据的组合）\n",
    "\n",
    "+ list\n",
    "+ tuple\n",
    "+ dict\n",
    "+ set\n",
    "+ 其他常用数据结构，collections\n",
    "\n",
    "#### 2. 控制流（对程序行为的组合）\n",
    "\n",
    "+ 循环：for、while\n",
    "+ 分支： if else\n",
    "+ 异常处理：try except、raise"
   ]
  },
  {
   "cell_type": "code",
   "execution_count": null,
   "metadata": {},
   "outputs": [],
   "source": []
  }
 ],
 "metadata": {
  "celltoolbar": "幻灯片",
  "kernelspec": {
   "display_name": "Python 3",
   "language": "python",
   "name": "python3"
  },
  "language_info": {
   "codemirror_mode": {
    "name": "ipython",
    "version": 3
   },
   "file_extension": ".py",
   "mimetype": "text/x-python",
   "name": "python",
   "nbconvert_exporter": "python",
   "pygments_lexer": "ipython3",
   "version": "3.6.3"
  }
 },
 "nbformat": 4,
 "nbformat_minor": 2
}
