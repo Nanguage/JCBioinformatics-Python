{
 "cells": [
  {
   "cell_type": "markdown",
   "metadata": {
    "slideshow": {
     "slide_type": "slide"
    }
   },
   "source": [
    "# Python Basic\n",
    "\n",
    "JCBioinformatics - 2019 - HZAU\n"
   ]
  },
  {
   "cell_type": "markdown",
   "metadata": {
    "slideshow": {
     "slide_type": "slide"
    }
   },
   "source": [
    "## 语言特性、语法\n",
    "\n",
    "1. **基本成份**\n",
    "    + **基本对象与运算符**\n",
    "    + **表达式与变量**\n",
    "2. 如何组合\n",
    "    + 内置数据结构\n",
    "        - list / tuple / set / dict\n",
    "    + 控制流\n",
    "        - 循环 for / while\n",
    "        - 分支\n",
    "3. 如何抽象\n",
    "    + 函数\n",
    "    + 类与对象\n",
    "    + 选择一种编程范式\n"
   ]
  },
  {
   "cell_type": "markdown",
   "metadata": {
    "slideshow": {
     "slide_type": "subslide"
    }
   },
   "source": [
    "## 基本成份\n",
    "\n",
    "### 1. 基本数据类型：\n",
    "\n",
    "+ 整数\n",
    "+ 浮点数\n",
    "+ 布尔值\n",
    "+ 字符串、bytes\n",
    "+ None\n",
    "\n",
    "### 2. 基本的程序行为：\n",
    "\n",
    "#### (1) 基本运算\n",
    "\n",
    "+ 加减乘除、整除、余数、乘方、开方\n",
    "+ and、or、not\n",
    "+ encode、decode、字符串拼接、格式化\n",
    "+ ...\n",
    "\n",
    "#### (2) 变量与赋值语句"
   ]
  },
  {
   "cell_type": "markdown",
   "metadata": {
    "slideshow": {
     "slide_type": "slide"
    }
   },
   "source": [
    "### 数字类型以及基本运算\n",
    "\n",
    "\n",
    "<img src=\"https://upload.wikimedia.org/wikipedia/commons/c/cf/Casio_calculator_JS-20WK_in_201901_002.jpg\" alt=\"Drawing\" style=\"width: 200px;\"/>\n",
    "\n",
    "我们可以把 Python 解释器当成一个计算器来使用， 让我们来一做些基本的算术："
   ]
  },
  {
   "cell_type": "code",
   "execution_count": 1,
   "metadata": {
    "slideshow": {
     "slide_type": "fragment"
    }
   },
   "outputs": [
    {
     "data": {
      "text/plain": [
       "2"
      ]
     },
     "execution_count": 1,
     "metadata": {},
     "output_type": "execute_result"
    }
   ],
   "source": [
    "1 + 1"
   ]
  },
  {
   "cell_type": "markdown",
   "metadata": {
    "slideshow": {
     "slide_type": "fragment"
    }
   },
   "source": [
    "上面像上面这样一个 `In` 与一个 `Out`，在 Jupyter 中我们称之为一个 `Cell`， 我们可以在 `In` 之中输入一个一个 `表达式`，Python解释器 对其进行求值后会将结果返回，并将结果打印在`Out`之中。这种交互模式，我们一般称之为 [REPL](https://en.wikipedia.org/wiki/Read%E2%80%93eval%E2%80%93print_loop)(Read-Eval-Print-Loop，读取、求值、打印循环)。\n",
    "REPL 非常适合于交互式的探索性数据分析。"
   ]
  },
  {
   "cell_type": "code",
   "execution_count": 2,
   "metadata": {
    "slideshow": {
     "slide_type": "fragment"
    }
   },
   "outputs": [
    {
     "data": {
      "text/plain": [
       "2"
      ]
     },
     "execution_count": 2,
     "metadata": {},
     "output_type": "execute_result"
    }
   ],
   "source": [
    "3 - 1"
   ]
  },
  {
   "cell_type": "code",
   "execution_count": 3,
   "metadata": {
    "slideshow": {
     "slide_type": "fragment"
    }
   },
   "outputs": [
    {
     "data": {
      "text/plain": [
       "6"
      ]
     },
     "execution_count": 3,
     "metadata": {},
     "output_type": "execute_result"
    }
   ],
   "source": [
    "2 * 3"
   ]
  },
  {
   "cell_type": "code",
   "execution_count": 4,
   "metadata": {
    "slideshow": {
     "slide_type": "fragment"
    }
   },
   "outputs": [
    {
     "data": {
      "text/plain": [
       "0.5"
      ]
     },
     "execution_count": 4,
     "metadata": {},
     "output_type": "execute_result"
    }
   ],
   "source": [
    "1 / 2  # Python 3 中，整数除法结果是一个浮点数\n",
    "\n",
    "# 顺便一提，Python 中，`#` 用来表示对代码的注释，`#` 之后的部分不会被执行。"
   ]
  },
  {
   "cell_type": "markdown",
   "metadata": {
    "slideshow": {
     "slide_type": "subslide"
    }
   },
   "source": [
    "更多的数字运算："
   ]
  },
  {
   "cell_type": "code",
   "execution_count": 5,
   "metadata": {
    "slideshow": {
     "slide_type": "fragment"
    }
   },
   "outputs": [
    {
     "data": {
      "text/plain": [
       "2"
      ]
     },
     "execution_count": 5,
     "metadata": {},
     "output_type": "execute_result"
    }
   ],
   "source": [
    "8 // 3  # 8 整除 3"
   ]
  },
  {
   "cell_type": "code",
   "execution_count": 6,
   "metadata": {
    "slideshow": {
     "slide_type": "fragment"
    }
   },
   "outputs": [
    {
     "data": {
      "text/plain": [
       "4"
      ]
     },
     "execution_count": 6,
     "metadata": {},
     "output_type": "execute_result"
    }
   ],
   "source": [
    "12 % 8  # 求余数"
   ]
  },
  {
   "cell_type": "code",
   "execution_count": 7,
   "metadata": {
    "slideshow": {
     "slide_type": "fragment"
    }
   },
   "outputs": [
    {
     "data": {
      "text/plain": [
       "8"
      ]
     },
     "execution_count": 7,
     "metadata": {},
     "output_type": "execute_result"
    }
   ],
   "source": [
    "2 ** 3  # 2 的 3 次方"
   ]
  },
  {
   "cell_type": "markdown",
   "metadata": {
    "slideshow": {
     "slide_type": "fragment"
    }
   },
   "source": [
    "math 包中提供了很多常见的数学运算，我们可以加载它："
   ]
  },
  {
   "cell_type": "code",
   "execution_count": 8,
   "metadata": {
    "slideshow": {
     "slide_type": "fragment"
    }
   },
   "outputs": [],
   "source": [
    "import math"
   ]
  },
  {
   "cell_type": "code",
   "execution_count": 9,
   "metadata": {
    "slideshow": {
     "slide_type": "fragment"
    }
   },
   "outputs": [
    {
     "data": {
      "text/plain": [
       "1.2246467991473532e-16"
      ]
     },
     "execution_count": 9,
     "metadata": {},
     "output_type": "execute_result"
    }
   ],
   "source": [
    "math.sin(math.pi)  # sin(pi)"
   ]
  },
  {
   "cell_type": "code",
   "execution_count": 10,
   "metadata": {
    "slideshow": {
     "slide_type": "fragment"
    }
   },
   "outputs": [
    {
     "data": {
      "text/plain": [
       "2.0"
      ]
     },
     "execution_count": 10,
     "metadata": {},
     "output_type": "execute_result"
    }
   ],
   "source": [
    "math.sqrt(4)  # 开平方"
   ]
  },
  {
   "cell_type": "markdown",
   "metadata": {
    "slideshow": {
     "slide_type": "fragment"
    }
   },
   "source": [
    "这不是全部，实际上有一些重要的运算（比如ceil, bottom）并没有被提到，可以参考Python官方文档 [math](https://docs.python.org/3/library/math.html) 或者用到的时候再去查询。（实际上，除非记忆力超群，否则编程的时候除了最常用的那一部分，\n",
    "很多东西是很难记住的，用的时候去查就好）\n"
   ]
  },
  {
   "cell_type": "markdown",
   "metadata": {
    "slideshow": {
     "slide_type": "fragment"
    }
   },
   "source": [
    "#### 运算优先级\n",
    "\n",
    "我们上面展示的运算都是非常简单的表达式，当一个表达式中出现了不止一个运算符的时候，就会出现一个问题。因为Python使用的`中缀表达式 (Infix notation)` 运算的先后顺序无法从表达式本身进行判断，这时候就需要知道运算符之间的优先级。比如对于表达式： 1 + 2 / 3，这里 `/` 的优先级是高于 `+` 的，所以先算 `2/3`。"
   ]
  },
  {
   "cell_type": "code",
   "execution_count": 11,
   "metadata": {
    "slideshow": {
     "slide_type": "fragment"
    }
   },
   "outputs": [
    {
     "data": {
      "text/plain": [
       "1.6666666666666665"
      ]
     },
     "execution_count": 11,
     "metadata": {},
     "output_type": "execute_result"
    }
   ],
   "source": [
    "1 + 2 / 3"
   ]
  },
  {
   "cell_type": "markdown",
   "metadata": {
    "slideshow": {
     "slide_type": "fragment"
    }
   },
   "source": [
    "具体的优先级定义可以参照[官方文档](https://docs.python.org/3/reference/expressions.html#operator-precedence)，\n",
    "还有一个比较推荐的办法是：不知道优先级的话就用括号，比如："
   ]
  },
  {
   "cell_type": "code",
   "execution_count": 12,
   "metadata": {
    "slideshow": {
     "slide_type": "fragment"
    }
   },
   "outputs": [
    {
     "data": {
      "text/plain": [
       "1.6666666666666665"
      ]
     },
     "execution_count": 12,
     "metadata": {},
     "output_type": "execute_result"
    }
   ],
   "source": [
    "1 + (2 / 3)  # 先算 2 / 3"
   ]
  },
  {
   "cell_type": "code",
   "execution_count": 13,
   "metadata": {
    "slideshow": {
     "slide_type": "fragment"
    }
   },
   "outputs": [
    {
     "data": {
      "text/plain": [
       "1.0"
      ]
     },
     "execution_count": 13,
     "metadata": {},
     "output_type": "execute_result"
    }
   ],
   "source": [
    "(1 + 2) / 3  # 先算  1 + 2"
   ]
  },
  {
   "cell_type": "markdown",
   "metadata": {
    "slideshow": {
     "slide_type": "subslide"
    }
   },
   "source": [
    "### 关于类型\n",
    "\n",
    "#### 1. 如何检查对象的类型\n",
    "\n",
    "内置函数([built-in functions](https://docs.python.org/3/library/functions.html)) `type` 可以用来查看对象的类型，比如："
   ]
  },
  {
   "cell_type": "code",
   "execution_count": 14,
   "metadata": {
    "slideshow": {
     "slide_type": "fragment"
    }
   },
   "outputs": [
    {
     "data": {
      "text/plain": [
       "int"
      ]
     },
     "execution_count": 14,
     "metadata": {},
     "output_type": "execute_result"
    }
   ],
   "source": [
    "type(42)"
   ]
  },
  {
   "cell_type": "code",
   "execution_count": 15,
   "metadata": {
    "slideshow": {
     "slide_type": "fragment"
    }
   },
   "outputs": [
    {
     "name": "stdout",
     "output_type": "stream",
     "text": [
      "<class 'float'>\n",
      "<class 'str'>\n",
      "<class 'bytes'>\n"
     ]
    }
   ],
   "source": [
    "print(type(1.0))\n",
    "print(type(\"I am a string\"))\n",
    "print(type(b\"aaaa\"))"
   ]
  },
  {
   "cell_type": "markdown",
   "metadata": {
    "slideshow": {
     "slide_type": "fragment"
    }
   },
   "source": [
    "（`print` 是用于将一个对象进行`打印`操作的内置函数，如果你想在一个 `Cell` 之中检查多个表达式的求值结果，\n",
    "可以使用 `print` 函数。关于 `print` 函数，在后面 IO 的章节中会有更多的介绍。）"
   ]
  },
  {
   "cell_type": "markdown",
   "metadata": {
    "slideshow": {
     "slide_type": "subslide"
    }
   },
   "source": [
    "#### 2. 基本类型间如何进行类型转换\n",
    "\n",
    "如上所见的几种基本类型，在Python中内置了相应的构造器函数，通过调用构造器函数，可实现基本类型间的转换，例如："
   ]
  },
  {
   "cell_type": "code",
   "execution_count": 16,
   "metadata": {
    "slideshow": {
     "slide_type": "fragment"
    }
   },
   "outputs": [
    {
     "data": {
      "text/plain": [
       "1"
      ]
     },
     "execution_count": 16,
     "metadata": {},
     "output_type": "execute_result"
    }
   ],
   "source": [
    "int(\"1\")  # 输入的是 字符串\"1\" 被转换成了整数 1"
   ]
  },
  {
   "cell_type": "code",
   "execution_count": 17,
   "metadata": {
    "slideshow": {
     "slide_type": "fragment"
    }
   },
   "outputs": [
    {
     "data": {
      "text/plain": [
       "1.0"
      ]
     },
     "execution_count": 17,
     "metadata": {},
     "output_type": "execute_result"
    }
   ],
   "source": [
    "float(1)  # 输入的是整数 1 ，被转换成了浮点数 1.0"
   ]
  },
  {
   "cell_type": "code",
   "execution_count": 18,
   "metadata": {
    "slideshow": {
     "slide_type": "fragment"
    }
   },
   "outputs": [
    {
     "data": {
      "text/plain": [
       "'42'"
      ]
     },
     "execution_count": 18,
     "metadata": {},
     "output_type": "execute_result"
    }
   ],
   "source": [
    "str(42)"
   ]
  },
  {
   "cell_type": "markdown",
   "metadata": {
    "slideshow": {
     "slide_type": "slide"
    }
   },
   "source": [
    "### 变量与赋值\n",
    "\n",
    "上面我们展示了如何将 Python 解释器作为一个高级计算器来使用，输入一个表达式，解释器对其求值，将结果返回给我们。\n",
    "但对于编写程序来说，这显然还不够，很多时候我们希望将某一步计算的结果暂时保存起来，在需要的时候进行引用。"
   ]
  },
  {
   "cell_type": "code",
   "execution_count": 19,
   "metadata": {
    "slideshow": {
     "slide_type": "fragment"
    }
   },
   "outputs": [],
   "source": [
    "a = 6 * 7"
   ]
  },
  {
   "cell_type": "markdown",
   "metadata": {
    "slideshow": {
     "slide_type": "fragment"
    }
   },
   "source": [
    "可以看到，上面的代码并没有输出返回值。这称之为一个[赋值语句(assignment statement)](https://docs.python.org/3/reference/simple_stmts.html#assignment-statements)\n",
    "它所产生的效果是将一个值绑定在一个符号（变量, variable）上面。\n",
    "\n",
    "上面的赋值语句可以理解为我们把 6 * 7 的结果(42)放在了一个一个名字为 a 的“盒子”里。当然，我们也可以把值从“盒子”中取出来："
   ]
  },
  {
   "cell_type": "code",
   "execution_count": 20,
   "metadata": {
    "slideshow": {
     "slide_type": "fragment"
    }
   },
   "outputs": [
    {
     "data": {
      "text/plain": [
       "42"
      ]
     },
     "execution_count": 20,
     "metadata": {},
     "output_type": "execute_result"
    }
   ],
   "source": [
    "a"
   ]
  },
  {
   "cell_type": "markdown",
   "metadata": {
    "slideshow": {
     "slide_type": "fragment"
    }
   },
   "source": [
    "此外，还可以将 a 这个盒子中的值“复制”一份给 b。(但实际上，这里的比喻是不恰当的，因为很多时候Python中的变量实际上\n",
    "是一种“引用”，后面再说)"
   ]
  },
  {
   "cell_type": "code",
   "execution_count": 21,
   "metadata": {
    "slideshow": {
     "slide_type": "fragment"
    }
   },
   "outputs": [
    {
     "data": {
      "text/plain": [
       "42"
      ]
     },
     "execution_count": 21,
     "metadata": {},
     "output_type": "execute_result"
    }
   ],
   "source": [
    "b = a\n",
    "b"
   ]
  },
  {
   "cell_type": "markdown",
   "metadata": {
    "slideshow": {
     "slide_type": "fragment"
    }
   },
   "source": [
    "现在我们修改 b 的值："
   ]
  },
  {
   "cell_type": "code",
   "execution_count": 22,
   "metadata": {
    "slideshow": {
     "slide_type": "fragment"
    }
   },
   "outputs": [],
   "source": [
    "b = 9"
   ]
  },
  {
   "cell_type": "markdown",
   "metadata": {
    "slideshow": {
     "slide_type": "fragment"
    }
   },
   "source": [
    "a 的值并不会发生改变："
   ]
  },
  {
   "cell_type": "code",
   "execution_count": 23,
   "metadata": {
    "slideshow": {
     "slide_type": "fragment"
    }
   },
   "outputs": [
    {
     "data": {
      "text/plain": [
       "42"
      ]
     },
     "execution_count": 23,
     "metadata": {},
     "output_type": "execute_result"
    }
   ],
   "source": [
    "a"
   ]
  },
  {
   "cell_type": "markdown",
   "metadata": {
    "slideshow": {
     "slide_type": "fragment"
    }
   },
   "source": [
    "另外需要说明的一点，如果你曾经学习过 C，Java 这样的静态类型(Static typing)语言，你会知道，在静态类型语言中，一个变量的类型是\n",
    "事先声明确定的，之后如果赋值其他类型的对象给它，编译器在类型检查时会报错。但 Python 是 动态类型(Dynamic typing)语言，\n",
    "这意味着一个变量可以引用不同类型的值："
   ]
  },
  {
   "cell_type": "code",
   "execution_count": 24,
   "metadata": {
    "slideshow": {
     "slide_type": "fragment"
    }
   },
   "outputs": [],
   "source": [
    "a = 42   # 这里给 a 赋值了一个 int\n",
    "a = 42.0 # 又给它了一个 float\n",
    "a = \"The Answer to Everything.\" # 又给它了一个 str"
   ]
  },
  {
   "cell_type": "markdown",
   "metadata": {
    "slideshow": {
     "slide_type": "fragment"
    }
   },
   "source": [
    "#### 赋值运算符 assignment operator\n",
    "\n",
    "还有一类赋值操作，相当于基本的运算与一般赋值操作的耦合，比如："
   ]
  },
  {
   "cell_type": "code",
   "execution_count": 25,
   "metadata": {
    "slideshow": {
     "slide_type": "fragment"
    }
   },
   "outputs": [
    {
     "data": {
      "text/plain": [
       "42"
      ]
     },
     "execution_count": 25,
     "metadata": {},
     "output_type": "execute_result"
    }
   ],
   "source": [
    "b = 1\n",
    "b += 41\n",
    "b"
   ]
  },
  {
   "cell_type": "markdown",
   "metadata": {
    "slideshow": {
     "slide_type": "fragment"
    }
   },
   "source": [
    "此处的 `b += 41` 其实与 `b = b + 41` 的语义是完全相同的，只是一种便捷的表达方法。对，你应该能想到，其他的操作符也对应\n",
    "的有 赋值运算符，比如 `*=`, `/=`, ..."
   ]
  },
  {
   "cell_type": "code",
   "execution_count": 26,
   "metadata": {
    "slideshow": {
     "slide_type": "fragment"
    }
   },
   "outputs": [
    {
     "data": {
      "text/plain": [
       "42"
      ]
     },
     "execution_count": 26,
     "metadata": {},
     "output_type": "execute_result"
    }
   ],
   "source": [
    "b = 6\n",
    "b *= 7\n",
    "b"
   ]
  },
  {
   "cell_type": "markdown",
   "metadata": {
    "slideshow": {
     "slide_type": "slide"
    }
   },
   "source": [
    "### 字符(chr)与字符串(str)\n",
    "\n",
    "现实世界中，除了数字以外我们经常接触到的一类信息是文本(Text)，比如说一段对话、人的名字、一本小说，都可以看作是文本，可以说“有语言的地方就有文本”。不但如此，生物的碱基序列也可以看作是一段文本。在计算机中，文本信息往往被抽象成 字符串（String），顾名思义，字符串就是一串字符（Char）所组成的序列。\n",
    "\n",
    "\n",
    "![The quick brown fox jumps over the lazy dog](https://upload.wikimedia.org/wikipedia/commons/b/bd/Boston_Journal_1885-02-10_%28quick_brown_fox%29.png)"
   ]
  },
  {
   "cell_type": "markdown",
   "metadata": {
    "slideshow": {
     "slide_type": "subslide"
    }
   },
   "source": [
    "#### 字符与编码\n",
    "\n",
    "在介绍如何在Python中操作字符串之前，我们先来说组成字符串的基本单位：字符(Char)。\n",
    "\n",
    "Python3 中默认采用的是 utf-8 字符编码，我们可以使用 `chr` 函数将一个字符的`Unicode`编码转换为该字符："
   ]
  },
  {
   "cell_type": "code",
   "execution_count": 27,
   "metadata": {},
   "outputs": [
    {
     "data": {
      "text/plain": [
       "False"
      ]
     },
     "execution_count": 27,
     "metadata": {},
     "output_type": "execute_result"
    }
   ],
   "source": [
    "a = \"戏说\"\n",
    "b = \"胡说\"\n",
    "a is b"
   ]
  },
  {
   "cell_type": "code",
   "execution_count": 28,
   "metadata": {},
   "outputs": [
    {
     "data": {
      "text/plain": [
       "False"
      ]
     },
     "execution_count": 28,
     "metadata": {},
     "output_type": "execute_result"
    }
   ],
   "source": [
    "a = \"戏说\"\n",
    "b = \"戏说\"\n",
    "a is b"
   ]
  },
  {
   "cell_type": "code",
   "execution_count": 29,
   "metadata": {
    "slideshow": {
     "slide_type": "fragment"
    }
   },
   "outputs": [
    {
     "name": "stdout",
     "output_type": "stream",
     "text": [
      "'\\x00' '\\x01' '\\x02' '\\x03' '\\x04' '\\x05' '\\x06' '\\x07' '\\x08' '\\t' '\\n' '\\x0b' '\\x0c' '\\r' '\\x0e' '\\x0f' '\\x10' '\\x11' '\\x12' '\\x13' '\\x14' '\\x15' '\\x16' '\\x17' '\\x18' '\\x19' '\\x1a' '\\x1b' '\\x1c' '\\x1d' '\\x1e' '\\x1f' ' ' '!' '\"' '#' '$' '%' '&' \"'\" '(' ')' '*' '+' ',' '-' '.' '/' '0' '1' '2' '3' '4' '5' '6' '7' '8' '9' ':' ';' '<' '=' '>' '?' '@' 'A' 'B' 'C' 'D' 'E' 'F' 'G' 'H' 'I' 'J' 'K' 'L' 'M' 'N' 'O' 'P' 'Q' 'R' 'S' 'T' 'U' 'V' 'W' 'X' 'Y' 'Z' '[' '\\\\' ']' '^' '_' '`' 'a' 'b' 'c' 'd' 'e' 'f' 'g' 'h' 'i' 'j' 'k' 'l' 'm' 'n' 'o' 'p' 'q' 'r' 's' 't' 'u' 'v' 'w' 'x' 'y' 'z' '{' '|' '}' '~' '\\x7f' "
     ]
    }
   ],
   "source": [
    "# 打印出所有的 ASCII 字符(0~127)\n",
    "for i in range(128):\n",
    "    print(chr(i).__repr__(),end=\" \")"
   ]
  },
  {
   "cell_type": "code",
   "execution_count": 30,
   "metadata": {
    "slideshow": {
     "slide_type": "fragment"
    }
   },
   "outputs": [
    {
     "name": "stdout",
     "output_type": "stream",
     "text": [
      "'一' '丁' '丂' '七' '丄' '丅' '丆' '万' '丈' '三' '上' '下' '丌' '不' '与' '丏' '丐' '丑' '丒' '专' '且' '丕' '世' '丗' '丘' '丙' '业' '丛' '东' '丝' '丞' '丟' '丠' '両' '丢' '丣' '两' '严' '並' '丧' '丨' '丩' '个' '丫' '丬' '中' '丮' '丯' '丰' '丱' '串' '丳' '临' '丵' '丶' '丷' '丸' '丹' '为' '主' '丼' '丽' '举' '丿' '乀' '乁' '乂' '乃' '乄' '久' '乆' '乇' '么' '义' '乊' '之' '乌' '乍' '乎' '乏' '乐' '乑' '乒' '乓' '乔' '乕' '乖' '乗' '乘' '乙' '乚' '乛' '乜' '九' '乞' '也' '习' '乡' '乢' '乣' "
     ]
    }
   ],
   "source": [
    "# 打印出一部分（前100个）汉字(0x4E00-0x9FA5)\n",
    "for i in range(0x4E00,0x9FA5+1)[:100]:\n",
    "    print(chr(i).__repr__(),end=\" \")"
   ]
  },
  {
   "cell_type": "code",
   "execution_count": 31,
   "metadata": {
    "slideshow": {
     "slide_type": "fragment"
    }
   },
   "outputs": [
    {
     "name": "stdout",
     "output_type": "stream",
     "text": [
      "'😀' '😁' '😂' '😃' '😄' '😅' '😆' '😇' '😈' '😉' '😊' '😋' '😌' '😍' '😎' '😏' '😐' '😑' '😒' '😓' '😔' '😕' '😖' '😗' '😘' '😙' '😚' '😛' '😜' '😝' '😞' '😟' '😠' '😡' '😢' '😣' '😤' '😥' '😦' '😧' '😨' '😩' '😪' '😫' '😬' '😭' '😮' '😯' '😰' '😱' '😲' '😳' '😴' '😵' '😶' '😷' '😸' '😹' '😺' '😻' '😼' '😽' '😾' '😿' '🙀' '🙁' '🙂' '🙃' '🙄' '🙅' '🙆' '🙇' '🙈' '🙉' '🙊' '🙋' '🙌' '🙍' '🙎' '🙏' "
     ]
    }
   ],
   "source": [
    "# 打印出一部分 emoji(0x1F600-0x1F64F)\n",
    "for i in range(0x1F600,0x1F64F+1):\n",
    "    print(chr(i).__repr__(),end=\" \")"
   ]
  },
  {
   "cell_type": "markdown",
   "metadata": {
    "slideshow": {
     "slide_type": "fragment"
    }
   },
   "source": [
    "告诉你一件事情，其实 Python 里面没有字符(char)类型，所谓字符，其实是长度为1的字符串(str)："
   ]
  },
  {
   "cell_type": "code",
   "execution_count": 32,
   "metadata": {
    "slideshow": {
     "slide_type": "fragment"
    }
   },
   "outputs": [
    {
     "data": {
      "text/plain": [
       "str"
      ]
     },
     "execution_count": 32,
     "metadata": {},
     "output_type": "execute_result"
    }
   ],
   "source": [
    "type('a')"
   ]
  },
  {
   "cell_type": "markdown",
   "metadata": {
    "slideshow": {
     "slide_type": "fragment"
    }
   },
   "source": [
    "与 chr 函数相反的是 `ord` 函数，可以得到一个字符的`Unicode`编码。"
   ]
  },
  {
   "cell_type": "code",
   "execution_count": 33,
   "metadata": {
    "slideshow": {
     "slide_type": "fragment"
    }
   },
   "outputs": [
    {
     "data": {
      "text/plain": [
       "97"
      ]
     },
     "execution_count": 33,
     "metadata": {},
     "output_type": "execute_result"
    }
   ],
   "source": [
    "ord('a')  # a 字符对应的 unicode 编码"
   ]
  },
  {
   "cell_type": "code",
   "execution_count": 34,
   "metadata": {
    "slideshow": {
     "slide_type": "fragment"
    }
   },
   "outputs": [
    {
     "data": {
      "text/plain": [
       "25105"
      ]
     },
     "execution_count": 34,
     "metadata": {},
     "output_type": "execute_result"
    }
   ],
   "source": [
    "ord('我') # 汉字 ‘我’ 对应的编码"
   ]
  },
  {
   "cell_type": "code",
   "execution_count": 90,
   "metadata": {
    "slideshow": {
     "slide_type": "fragment"
    }
   },
   "outputs": [
    {
     "ename": "TypeError",
     "evalue": "ord() expected a character, but string of length 3 found",
     "output_type": "error",
     "traceback": [
      "\u001b[0;31m---------------------------------------------------------------------------\u001b[0m",
      "\u001b[0;31mTypeError\u001b[0m                                 Traceback (most recent call last)",
      "\u001b[0;32m<ipython-input-90-1e601ea05e40>\u001b[0m in \u001b[0;36m<module>\u001b[0;34m()\u001b[0m\n\u001b[0;32m----> 1\u001b[0;31m \u001b[0mord\u001b[0m\u001b[0;34m(\u001b[0m\u001b[0;34m'你是谁'\u001b[0m\u001b[0;34m)\u001b[0m \u001b[0;31m# 如果输入的字符串长度大于1，会报错（抛出一个TypeError类型的异常）\u001b[0m\u001b[0;34m\u001b[0m\u001b[0m\n\u001b[0m",
      "\u001b[0;31mTypeError\u001b[0m: ord() expected a character, but string of length 3 found"
     ]
    }
   ],
   "source": [
    "ord('你是谁') # 如果输入的字符串长度大于1，会报错（抛出一个TypeError类型的异常）"
   ]
  },
  {
   "cell_type": "markdown",
   "metadata": {
    "slideshow": {
     "slide_type": "subslide"
    }
   },
   "source": [
    "#### 控制字符与字符转义\n",
    "\n",
    "有一些比较特殊的字符值得单独拿出来说一说，这些字符被称之为“控制字符”，因为它们并不像其他字符一样用来表示一个特定的图形。\n",
    "而是对某种输出设备具有特殊的控制作用。比如说最常见的，\"\\n\" 在类Unix操作系统中用来表示文本中行的结束，\"\\t\" (tab)表示一个分割符。\n",
    "这些字符在字符串打印(print)时具有特殊效果，比如："
   ]
  },
  {
   "cell_type": "code",
   "execution_count": 36,
   "metadata": {
    "slideshow": {
     "slide_type": "fragment"
    }
   },
   "outputs": [
    {
     "name": "stdout",
     "output_type": "stream",
     "text": [
      "I'm the bone of my sword.\n",
      "Steel is my body and ...\n"
     ]
    }
   ],
   "source": [
    "print(\"I'm the bone of my sword.\\nSteel is my body and ...\")"
   ]
  },
  {
   "cell_type": "markdown",
   "metadata": {
    "slideshow": {
     "slide_type": "fragment"
    }
   },
   "source": [
    "这里 \"sword.\" 后面有一个 \"\\n\"，在打印时这里会产生一个换行。再比如："
   ]
  },
  {
   "cell_type": "code",
   "execution_count": 37,
   "metadata": {
    "slideshow": {
     "slide_type": "fragment"
    }
   },
   "outputs": [
    {
     "name": "stdout",
     "output_type": "stream",
     "text": [
      "chrom\tstart\tend\tstrand\tname\tscore\n",
      "chr1\t520000\t530000\t+\tgene1\t0\n"
     ]
    }
   ],
   "source": [
    "print(\"chrom\\tstart\\tend\\tstrand\\tname\\tscore\")\n",
    "print(\"chr1\\t520000\\t530000\\t+\\tgene1\\t0\")"
   ]
  },
  {
   "cell_type": "markdown",
   "metadata": {
    "slideshow": {
     "slide_type": "fragment"
    }
   },
   "source": [
    "上面的代码中我们使用制表符\"\\t\"分割了几个字段，将一个基因的信息以表格的信息打印了出来。这样的代码在你编写脚本处理文本文件的时候会经常用到。"
   ]
  },
  {
   "cell_type": "markdown",
   "metadata": {
    "slideshow": {
     "slide_type": "fragment"
    }
   },
   "source": [
    "像这样在一个字符前加上'\\'来使其表达不同于本身的意义的行为称之为“转义”(escape)。除了上面提到的换行符和制表符，还有其他的转义字符，\n",
    "具体可以参考[这里](https://docs.python.org/3/reference/lexical_analysis.html#literals)。值得一提的是（抱歉，辞藻匮乏，文档里面出现了太多的“值得一提”），如果想打印 '\\' 字符本身应该怎么办呢？一种解决办法是在转义符'\\'前再加一个转义符："
   ]
  },
  {
   "cell_type": "code",
   "execution_count": 38,
   "metadata": {
    "slideshow": {
     "slide_type": "fragment"
    }
   },
   "outputs": [
    {
     "name": "stdout",
     "output_type": "stream",
     "text": [
      "\\n\n"
     ]
    }
   ],
   "source": [
    "print(\"\\\\n\")"
   ]
  },
  {
   "cell_type": "markdown",
   "metadata": {
    "slideshow": {
     "slide_type": "fragment"
    }
   },
   "source": [
    "或者使用 raw string，在字符串字面量前加 r 即可："
   ]
  },
  {
   "cell_type": "code",
   "execution_count": 39,
   "metadata": {
    "slideshow": {
     "slide_type": "fragment"
    }
   },
   "outputs": [
    {
     "name": "stdout",
     "output_type": "stream",
     "text": [
      "\\n\n"
     ]
    }
   ],
   "source": [
    "print(r\"\\n\")"
   ]
  },
  {
   "cell_type": "markdown",
   "metadata": {
    "slideshow": {
     "slide_type": "subslide"
    }
   },
   "source": [
    "#### 字符串\n",
    "\n",
    "介绍完字符，字符串就可以登场了(<del>说的好像之前没出现过一样</del>)。"
   ]
  },
  {
   "cell_type": "code",
   "execution_count": 40,
   "metadata": {
    "slideshow": {
     "slide_type": "subslide"
    }
   },
   "outputs": [
    {
     "data": {
      "text/plain": [
       "str"
      ]
     },
     "execution_count": 40,
     "metadata": {},
     "output_type": "execute_result"
    }
   ],
   "source": [
    "seq1 = \"AATTCCCCGGGG\"  # 这是一段DNA序列\n",
    "type(seq1)"
   ]
  },
  {
   "cell_type": "markdown",
   "metadata": {
    "slideshow": {
     "slide_type": "fragment"
    }
   },
   "source": [
    "我们可以用内置的 `len` 函数查看一个字符串的长度："
   ]
  },
  {
   "cell_type": "code",
   "execution_count": 41,
   "metadata": {
    "slideshow": {
     "slide_type": "fragment"
    }
   },
   "outputs": [
    {
     "data": {
      "text/plain": [
       "12"
      ]
     },
     "execution_count": 41,
     "metadata": {},
     "output_type": "execute_result"
    }
   ],
   "source": [
    "len(seq1)"
   ]
  },
  {
   "cell_type": "markdown",
   "metadata": {
    "slideshow": {
     "slide_type": "skip"
    }
   },
   "source": [
    "使用 `+` 操作符可以将两个字符串拼接在一起："
   ]
  },
  {
   "cell_type": "code",
   "execution_count": 42,
   "metadata": {
    "slideshow": {
     "slide_type": "fragment"
    }
   },
   "outputs": [
    {
     "data": {
      "text/plain": [
       "19"
      ]
     },
     "execution_count": 42,
     "metadata": {},
     "output_type": "execute_result"
    }
   ],
   "source": [
    "seq2 = \"GCCTTAA\"\n",
    "seq3 = seq1 + seq2\n",
    "len(seq3)"
   ]
  },
  {
   "cell_type": "markdown",
   "metadata": {
    "slideshow": {
     "slide_type": "fragment"
    }
   },
   "source": [
    "如果想取出字符串中的某一个字符，可以用下标(subscript)语法，比如，取出 seq3 中的第3个字符："
   ]
  },
  {
   "cell_type": "code",
   "execution_count": 43,
   "metadata": {
    "slideshow": {
     "slide_type": "fragment"
    }
   },
   "outputs": [
    {
     "name": "stdout",
     "output_type": "stream",
     "text": [
      "AATTCCCCGGGGGCCTTAA\n"
     ]
    },
    {
     "data": {
      "text/plain": [
       "'T'"
      ]
     },
     "execution_count": 43,
     "metadata": {},
     "output_type": "execute_result"
    }
   ],
   "source": [
    "print(seq3)\n",
    "seq3[2]"
   ]
  },
  {
   "cell_type": "markdown",
   "metadata": {
    "slideshow": {
     "slide_type": "fragment"
    }
   },
   "source": [
    "等等，要取第三个字符，为什么`[]`里面是2？因为，Python中的下标与R不同，是0-based的，也就是说第一个字符其实是第0个。为什么要这样设计，\n",
    "为什么不像 R 里面那样下标从1开始，不更自然一些吗。其实这种 0-base 的下标源自于 C 语言，你可以理解为它是一个“偏移量”，\n",
    "也就是说这个字符距离开始有多远的距离。\n",
    "\n",
    "下标也可以是负数，代表倒数第几个字符："
   ]
  },
  {
   "cell_type": "code",
   "execution_count": 44,
   "metadata": {
    "slideshow": {
     "slide_type": "fragment"
    }
   },
   "outputs": [
    {
     "data": {
      "text/plain": [
       "'A'"
      ]
     },
     "execution_count": 44,
     "metadata": {},
     "output_type": "execute_result"
    }
   ],
   "source": [
    "seq3[-1] # 最后一个字符"
   ]
  },
  {
   "cell_type": "markdown",
   "metadata": {
    "slideshow": {
     "slide_type": "fragment"
    }
   },
   "source": [
    "还可以使用 切片(slice)语法 将一个字符串的子集取出来，比如，我们取 seq3 的前十个字符所组成的字符串："
   ]
  },
  {
   "cell_type": "code",
   "execution_count": 45,
   "metadata": {
    "slideshow": {
     "slide_type": "fragment"
    }
   },
   "outputs": [
    {
     "data": {
      "text/plain": [
       "'AATTCCCCGG'"
      ]
     },
     "execution_count": 45,
     "metadata": {},
     "output_type": "execute_result"
    }
   ],
   "source": [
    "seq3[:10]"
   ]
  },
  {
   "cell_type": "code",
   "execution_count": 46,
   "metadata": {
    "slideshow": {
     "slide_type": "fragment"
    }
   },
   "outputs": [
    {
     "name": "stdout",
     "output_type": "stream",
     "text": [
      "AATTCCCCGGGGGCCTTAA\n",
      "     CCCGGGGGCC\n"
     ]
    }
   ],
   "source": [
    "print(seq3)\n",
    "print(\" \"*5 +seq3[5:15])"
   ]
  },
  {
   "cell_type": "markdown",
   "metadata": {
    "slideshow": {
     "slide_type": "fragment"
    }
   },
   "source": [
    "明白slice语法了吗？上面代码的含义是取出从6个字符开始，到第15个字符的字符串。slice的语法是 string[start:end]，取出来的字符串包括start但是不包括end，可以理解为是一个左开右闭的区间 `[start, end)`，这样设计的好处是 end - start 刚好是取出的字符串的长度。\n",
    "\n",
    "此外，slice中还可以设置一个步长，表示每个多少个字符取一个出来："
   ]
  },
  {
   "cell_type": "code",
   "execution_count": 47,
   "metadata": {
    "slideshow": {
     "slide_type": "fragment"
    }
   },
   "outputs": [
    {
     "data": {
      "text/plain": [
       "'02468'"
      ]
     },
     "execution_count": 47,
     "metadata": {},
     "output_type": "execute_result"
    }
   ],
   "source": [
    "s1 = \"0123456789\"\n",
    "s1[0:10:2]  # 步长为2，每两个字符取一个出来"
   ]
  },
  {
   "cell_type": "markdown",
   "metadata": {
    "slideshow": {
     "slide_type": "fragment"
    }
   },
   "source": [
    "步长还可以是负数，利用这个特性我们可以将字符串反转："
   ]
  },
  {
   "cell_type": "code",
   "execution_count": 48,
   "metadata": {
    "slideshow": {
     "slide_type": "fragment"
    }
   },
   "outputs": [
    {
     "data": {
      "text/plain": [
       "'9876543210'"
      ]
     },
     "execution_count": 48,
     "metadata": {},
     "output_type": "execute_result"
    }
   ],
   "source": [
    "s1[::-1]"
   ]
  },
  {
   "cell_type": "markdown",
   "metadata": {
    "slideshow": {
     "slide_type": "subslide"
    }
   },
   "source": [
    "对于生物信息学编程来说，也许字符串会是你最经常打交道的数据类型。 Python 的字符串对象，内置了很多有用的 “方法”(method) 用来作字符串处理。 对于很多文本处理任务来说，这些 方法 是必不可少的。举个例子："
   ]
  },
  {
   "cell_type": "code",
   "execution_count": 49,
   "metadata": {
    "slideshow": {
     "slide_type": "fragment"
    }
   },
   "outputs": [
    {
     "data": {
      "text/plain": [
       "2"
      ]
     },
     "execution_count": 49,
     "metadata": {},
     "output_type": "execute_result"
    }
   ],
   "source": [
    "seq1.count('A')  # 对 seq1 中 \"A\" 出现的次数进行计数"
   ]
  },
  {
   "cell_type": "markdown",
   "metadata": {
    "slideshow": {
     "slide_type": "fragment"
    }
   },
   "source": [
    "这里是第一次介绍如何调用一个 “方法”(method)， 你可以把 method 理解为一个函数，只不过它是与一个对象绑定在一起的，我们在后面学习面向对象编程的时候还会更详细的说明。这里，你只需要知道，以 obj.method() 这样 对象名.方法名() 的语法可以调用一个函数就可以了。\n",
    "\n",
    "让我们再来介绍一些字符串处理的方法："
   ]
  },
  {
   "cell_type": "code",
   "execution_count": 50,
   "metadata": {
    "slideshow": {
     "slide_type": "fragment"
    }
   },
   "outputs": [],
   "source": [
    "sent = \"The quick brown fox jumps over the lazy dog\"  # 新建一个字符串： sent"
   ]
  },
  {
   "cell_type": "code",
   "execution_count": 51,
   "metadata": {
    "slideshow": {
     "slide_type": "fragment"
    }
   },
   "outputs": [
    {
     "data": {
      "text/plain": [
       "'THE QUICK BROWN FOX JUMPS OVER THE LAZY DOG'"
      ]
     },
     "execution_count": 51,
     "metadata": {},
     "output_type": "execute_result"
    }
   ],
   "source": [
    "sent.upper() # 将 sent 中的所有字符(chr)转换成大写(upper case)"
   ]
  },
  {
   "cell_type": "code",
   "execution_count": 52,
   "metadata": {
    "slideshow": {
     "slide_type": "fragment"
    }
   },
   "outputs": [
    {
     "data": {
      "text/plain": [
       "'the quick brown fox jumps over the lazy dog'"
      ]
     },
     "execution_count": 52,
     "metadata": {},
     "output_type": "execute_result"
    }
   ],
   "source": [
    "sent.lower() # 将 sent 中的所有字符(chr)转换成小写(lower case)"
   ]
  },
  {
   "cell_type": "code",
   "execution_count": 53,
   "metadata": {
    "slideshow": {
     "slide_type": "fragment"
    }
   },
   "outputs": [
    {
     "data": {
      "text/plain": [
       "16"
      ]
     },
     "execution_count": 53,
     "metadata": {},
     "output_type": "execute_result"
    }
   ],
   "source": [
    "sent.find(\"fox\") # 在 sent 中搜索 \"fox\"，返回下标"
   ]
  },
  {
   "cell_type": "markdown",
   "metadata": {
    "slideshow": {
     "slide_type": "fragment"
    }
   },
   "source": [
    "这里很难将字符串处理的方法都说清楚，但如果做生物信息编程，你可能经常和字符串打交道，所以这些还是比较重要的。更多的请参考\n",
    "[官方文档](https://docs.python.org/3.7/library/stdtypes.html#string-methods)"
   ]
  },
  {
   "cell_type": "markdown",
   "metadata": {
    "slideshow": {
     "slide_type": "subslide"
    }
   },
   "source": [
    "### 字符串格式化\n",
    "\n",
    "使用字符串时，还需要面对的一个问题是如何将一系列值以我们想要的格式组合成一个字符串。当然一种办法是将字符串用 `+` 连接起来，但 Python 中有更好的处理方式。可以用字符串的`format`方法进行处理，比如说，我们将一个基因在染色体上的位置信息插入到一个模板中形成一条关于基因位置的信息："
   ]
  },
  {
   "cell_type": "code",
   "execution_count": 54,
   "metadata": {
    "slideshow": {
     "slide_type": "fragment"
    }
   },
   "outputs": [
    {
     "name": "stdout",
     "output_type": "stream",
     "text": [
      "gene1\n",
      "chromosome\tchr1\n",
      "start\t1000\n",
      "end\t2000\n"
     ]
    }
   ],
   "source": [
    "chr_, start, end = \"chr1\", 1000, 2000\n",
    "\n",
    "tmpl = \"gene1\\nchromosome\\t{}\\nstart\\t{}\\nend\\t{}\"\n",
    "# 这里定义了一个 模板，{} 占位处在 format 时会被替换\n",
    "\n",
    "print(tmpl.format(chr_, start, end))"
   ]
  },
  {
   "cell_type": "markdown",
   "metadata": {
    "slideshow": {
     "slide_type": "fragment"
    }
   },
   "source": [
    "`format` 还可以用来处理 `float` 类型的打印精度问题："
   ]
  },
  {
   "cell_type": "code",
   "execution_count": 55,
   "metadata": {
    "slideshow": {
     "slide_type": "fragment"
    }
   },
   "outputs": [
    {
     "name": "stdout",
     "output_type": "stream",
     "text": [
      "0.3333333333333333\n",
      "0.33\n",
      "33.33%\n"
     ]
    }
   ],
   "source": [
    "a = 1 / 3\n",
    "print(a) # 以原始形式进行打印\n",
    "print(\"{0:.2f}\".format(a)) # 保留 小数点后两位 进行打印\n",
    "print(\"{0:.2%}\".format(a)) # 格式化为 百分数形式 进行打印"
   ]
  },
  {
   "cell_type": "markdown",
   "metadata": {
    "slideshow": {
     "slide_type": "fragment"
    }
   },
   "source": [
    "Python3.6 之后引入了 字符串插值（[Literal String Interpolation](https://www.python.org/dev/peps/pep-0498/)）这个语法糖，\n",
    "我们可以利用这个特性来简化 format 的代码："
   ]
  },
  {
   "cell_type": "code",
   "execution_count": 56,
   "metadata": {
    "slideshow": {
     "slide_type": "fragment"
    }
   },
   "outputs": [
    {
     "name": "stdout",
     "output_type": "stream",
     "text": [
      "gene1\n",
      "chromosome\tchr1\n",
      "start\t1000\n",
      "end\t2000\n"
     ]
    }
   ],
   "source": [
    "chr_, start, end = \"chr1\", 1000, 2000\n",
    "\n",
    "# 在字符串字面量前加一个 f，并在 {} 内填入变量名即可\n",
    "msg = f\"gene1\\nchromosome\\t{chr_}\\nstart\\t{start}\\nend\\t{end}\"\n",
    "\n",
    "print(msg)"
   ]
  },
  {
   "cell_type": "markdown",
   "metadata": {
    "slideshow": {
     "slide_type": "slide"
    }
   },
   "source": [
    "### bytes\n",
    "\n",
    "另外一类与字符串非常相似的数据类型是 bytes，而它与字符串的不同之处，归纳一下：\n",
    "\n",
    "1. 字符串是字符的序列，而 bytes 是字节(Byte)的序列。\n",
    "2. 字符串是给人类读的，而 bytes 是给机器读的。\n",
    "3. bytes 可以直接写入到磁盘上进行存储，而字符串(str)需要先 编码（encode）成一个 bytes，然后再写入磁盘。\n",
    "\n",
    "在Python中创建一个 `bytes` 字面量，只需要在对应的字符串字面量前加一个 'b'，比如："
   ]
  },
  {
   "cell_type": "code",
   "execution_count": 57,
   "metadata": {
    "slideshow": {
     "slide_type": "fragment"
    }
   },
   "outputs": [
    {
     "data": {
      "text/plain": [
       "bytes"
      ]
     },
     "execution_count": 57,
     "metadata": {},
     "output_type": "execute_result"
    }
   ],
   "source": [
    "bs = b\"this is a bytes\"\n",
    "type(bs)"
   ]
  },
  {
   "cell_type": "markdown",
   "metadata": {
    "slideshow": {
     "slide_type": "fragment"
    }
   },
   "source": [
    "我们也可以按照一定的编码规则，比如 ASCII 编码，或者 utf-8 编码（默认），将字符串编码成一个 `bytes`："
   ]
  },
  {
   "cell_type": "code",
   "execution_count": 58,
   "metadata": {
    "slideshow": {
     "slide_type": "fragment"
    }
   },
   "outputs": [
    {
     "data": {
      "text/plain": [
       "b'aatggc'"
      ]
     },
     "execution_count": 58,
     "metadata": {},
     "output_type": "execute_result"
    }
   ],
   "source": [
    "s = \"aatggc\"\n",
    "s.encode('ASCII')  # 用 ASCII 编码"
   ]
  },
  {
   "cell_type": "code",
   "execution_count": 59,
   "metadata": {
    "slideshow": {
     "slide_type": "fragment"
    }
   },
   "outputs": [
    {
     "data": {
      "text/plain": [
       "b'aatggc'"
      ]
     },
     "execution_count": 59,
     "metadata": {},
     "output_type": "execute_result"
    }
   ],
   "source": [
    "s.encode('utf-8') # 用 utf-8 编码"
   ]
  },
  {
   "cell_type": "markdown",
   "metadata": {
    "slideshow": {
     "slide_type": "fragment"
    }
   },
   "source": [
    "与 encode 相反，`bytes` 解码(decode)成一个 字符串，但要注意编码规则需要和 encode 时候一致："
   ]
  },
  {
   "cell_type": "code",
   "execution_count": 60,
   "metadata": {},
   "outputs": [
    {
     "data": {
      "text/plain": [
       "'aatggc'"
      ]
     },
     "execution_count": 60,
     "metadata": {},
     "output_type": "execute_result"
    }
   ],
   "source": [
    "s.encode('utf-8').decode('utf-8')"
   ]
  },
  {
   "cell_type": "code",
   "execution_count": 61,
   "metadata": {},
   "outputs": [
    {
     "data": {
      "text/plain": [
       "'慡杴捧'"
      ]
     },
     "execution_count": 61,
     "metadata": {},
     "output_type": "execute_result"
    }
   ],
   "source": [
    "s.encode('utf-8').decode('utf-16') # 编码与解码个是不一致，产生错误"
   ]
  },
  {
   "cell_type": "markdown",
   "metadata": {},
   "source": [
    "`bytes` 的解码在我们读取二进制文件，比如压缩文件的时候可能会用到。"
   ]
  },
  {
   "cell_type": "markdown",
   "metadata": {
    "slideshow": {
     "slide_type": "slide"
    }
   },
   "source": [
    "### 布尔值与逻辑运算符\n",
    "\n",
    "对于编写程序来说，`逻辑`、真与假是一件重要的事情。一般，我们将表示真假的的值称之为一个布尔值(Boolean，Bool)。\n",
    "Bool 之间的运算可以称之为逻辑运算，最常见的逻辑运算为 `与`，`或`，`非`。事实上，在计算机底层硬件层面上就正在进行着大量的\n",
    "逻辑运算，对于 Python 这样的高级语言来说，逻辑运算也是必不可少的。\n",
    "\n",
    "<img src=\"https://upload.wikimedia.org/wikipedia/commons/4/41/LogicGates.GIF\" alt=\"Drawing\" style=\"width: 500px;\"/>\n",
    "\n"
   ]
  },
  {
   "cell_type": "markdown",
   "metadata": {
    "slideshow": {
     "slide_type": "subslide"
    }
   },
   "source": [
    "首先是 Bool 常量，`True` 与 `False`"
   ]
  },
  {
   "cell_type": "code",
   "execution_count": 62,
   "metadata": {
    "slideshow": {
     "slide_type": "fragment"
    }
   },
   "outputs": [
    {
     "data": {
      "text/plain": [
       "True"
      ]
     },
     "execution_count": 62,
     "metadata": {},
     "output_type": "execute_result"
    }
   ],
   "source": [
    "True"
   ]
  },
  {
   "cell_type": "code",
   "execution_count": 63,
   "metadata": {
    "slideshow": {
     "slide_type": "fragment"
    }
   },
   "outputs": [
    {
     "data": {
      "text/plain": [
       "False"
      ]
     },
     "execution_count": 63,
     "metadata": {},
     "output_type": "execute_result"
    }
   ],
   "source": [
    "False"
   ]
  },
  {
   "cell_type": "code",
   "execution_count": 64,
   "metadata": {},
   "outputs": [
    {
     "data": {
      "text/plain": [
       "bool"
      ]
     },
     "execution_count": 64,
     "metadata": {},
     "output_type": "execute_result"
    }
   ],
   "source": [
    "type(True)"
   ]
  },
  {
   "cell_type": "markdown",
   "metadata": {
    "slideshow": {
     "slide_type": "fragment"
    }
   },
   "source": [
    "逻辑 `与` 在Python中对应的运算符是 `and`，当左右两个值均为 `True` 时才返回 `True`:"
   ]
  },
  {
   "cell_type": "code",
   "execution_count": 65,
   "metadata": {
    "slideshow": {
     "slide_type": "fragment"
    }
   },
   "outputs": [
    {
     "name": "stdout",
     "output_type": "stream",
     "text": [
      "True\n",
      "False\n",
      "False\n",
      "False\n"
     ]
    }
   ],
   "source": [
    "print(True and True)\n",
    "print(True and False)\n",
    "print(False and True)\n",
    "print(False and False)"
   ]
  },
  {
   "cell_type": "markdown",
   "metadata": {
    "slideshow": {
     "slide_type": "fragment"
    }
   },
   "source": [
    "逻辑 `或`，对应于 `or`，有一个输入值为 `True` 就返回 `True`:"
   ]
  },
  {
   "cell_type": "code",
   "execution_count": 66,
   "metadata": {
    "slideshow": {
     "slide_type": "fragment"
    }
   },
   "outputs": [
    {
     "name": "stdout",
     "output_type": "stream",
     "text": [
      "True\n",
      "True\n",
      "True\n",
      "False\n"
     ]
    }
   ],
   "source": [
    "print(True or True)\n",
    "print(True or False)\n",
    "print(False or True)\n",
    "print(False or False)"
   ]
  },
  {
   "cell_type": "markdown",
   "metadata": {
    "slideshow": {
     "slide_type": "fragment"
    }
   },
   "source": [
    "`非` 对应 `not`，表示逻辑取反："
   ]
  },
  {
   "cell_type": "code",
   "execution_count": 67,
   "metadata": {
    "slideshow": {
     "slide_type": "fragment"
    }
   },
   "outputs": [
    {
     "name": "stdout",
     "output_type": "stream",
     "text": [
      "False\n",
      "True\n"
     ]
    }
   ],
   "source": [
    "print(not True)\n",
    "print(not False)"
   ]
  },
  {
   "cell_type": "markdown",
   "metadata": {
    "slideshow": {
     "slide_type": "fragment"
    }
   },
   "source": [
    "再来一些稍微复杂的："
   ]
  },
  {
   "cell_type": "code",
   "execution_count": 68,
   "metadata": {
    "slideshow": {
     "slide_type": "fragment"
    }
   },
   "outputs": [
    {
     "data": {
      "text/plain": [
       "True"
      ]
     },
     "execution_count": 68,
     "metadata": {},
     "output_type": "execute_result"
    }
   ],
   "source": [
    "True and (True or False)"
   ]
  },
  {
   "cell_type": "code",
   "execution_count": 69,
   "metadata": {
    "slideshow": {
     "slide_type": "fragment"
    }
   },
   "outputs": [
    {
     "data": {
      "text/plain": [
       "False"
      ]
     },
     "execution_count": 69,
     "metadata": {},
     "output_type": "execute_result"
    }
   ],
   "source": [
    "False and (not (False or True))"
   ]
  },
  {
   "cell_type": "markdown",
   "metadata": {
    "slideshow": {
     "slide_type": "subslide"
    }
   },
   "source": [
    "#### 短路\n",
    "\n",
    "这里需要说的是，`and` 与 `or` 其实是一种 `短路运算符`(Short-circuit evaluation)。因为对于 `and` 来说，只要第一个输入为\n",
    "`False` 时，第二个输入无论是什么，一定会返回 `False`，所以为了提升效率，解释器并不会对第二个输入进行求值。\n",
    "同样的，如果 `or` 的第一个输入是 `True`，第二个输入也没有必要计算了。举个例子："
   ]
  },
  {
   "cell_type": "code",
   "execution_count": 70,
   "metadata": {
    "slideshow": {
     "slide_type": "fragment"
    }
   },
   "outputs": [
    {
     "data": {
      "text/plain": [
       "True"
      ]
     },
     "execution_count": 70,
     "metadata": {},
     "output_type": "execute_result"
    }
   ],
   "source": [
    "True or (print(\"This print will not execute.\"))  # 这里并不会产生打印行为，因为 or 发生了短路"
   ]
  },
  {
   "cell_type": "code",
   "execution_count": 71,
   "metadata": {
    "slideshow": {
     "slide_type": "fragment"
    }
   },
   "outputs": [
    {
     "data": {
      "text/plain": [
       "False"
      ]
     },
     "execution_count": 71,
     "metadata": {},
     "output_type": "execute_result"
    }
   ],
   "source": [
    "False and (print(\"This print will not execute.\")) # 这里也不会产生打印行为，因为 and 发生了短路"
   ]
  },
  {
   "cell_type": "code",
   "execution_count": 72,
   "metadata": {
    "slideshow": {
     "slide_type": "fragment"
    }
   },
   "outputs": [
    {
     "name": "stdout",
     "output_type": "stream",
     "text": [
      "This print will not execute.\n"
     ]
    }
   ],
   "source": [
    "False or (print(\"This print will not execute.\")) # 这里会打印，因为 or 需要检查第二个表达式的值"
   ]
  },
  {
   "cell_type": "markdown",
   "metadata": {
    "slideshow": {
     "slide_type": "fragment"
    }
   },
   "source": [
    "其实其他类型的对象也能表现 `bool` 类型对象的行为，比如，对于 `int` 而言，0 代表 `False`，其他值代表 `True`，我们可以用\n",
    "`bool` 构造函数将其转换为 `bool` 类型："
   ]
  },
  {
   "cell_type": "code",
   "execution_count": 73,
   "metadata": {
    "slideshow": {
     "slide_type": "fragment"
    }
   },
   "outputs": [
    {
     "name": "stdout",
     "output_type": "stream",
     "text": [
      "1\n"
     ]
    }
   ],
   "source": [
    "a = (print(1))"
   ]
  },
  {
   "cell_type": "code",
   "execution_count": 74,
   "metadata": {
    "slideshow": {
     "slide_type": "fragment"
    }
   },
   "outputs": [
    {
     "data": {
      "text/plain": [
       "False"
      ]
     },
     "execution_count": 74,
     "metadata": {},
     "output_type": "execute_result"
    }
   ],
   "source": [
    "bool(0)"
   ]
  },
  {
   "cell_type": "code",
   "execution_count": 75,
   "metadata": {
    "slideshow": {
     "slide_type": "fragment"
    }
   },
   "outputs": [
    {
     "data": {
      "text/plain": [
       "True"
      ]
     },
     "execution_count": 75,
     "metadata": {},
     "output_type": "execute_result"
    }
   ],
   "source": [
    "bool(1)"
   ]
  },
  {
   "cell_type": "code",
   "execution_count": 76,
   "metadata": {
    "slideshow": {
     "slide_type": "fragment"
    }
   },
   "outputs": [
    {
     "data": {
      "text/plain": [
       "True"
      ]
     },
     "execution_count": 76,
     "metadata": {},
     "output_type": "execute_result"
    }
   ],
   "source": [
    "bool(-1)"
   ]
  },
  {
   "cell_type": "markdown",
   "metadata": {
    "slideshow": {
     "slide_type": "fragment"
    }
   },
   "source": [
    "此外，一个空的字符串，以及空的`容器`(指list、tuple、dict、set等，后面会提到)也对应于 `False`："
   ]
  },
  {
   "cell_type": "code",
   "execution_count": 77,
   "metadata": {
    "slideshow": {
     "slide_type": "fragment"
    }
   },
   "outputs": [
    {
     "data": {
      "text/plain": [
       "False"
      ]
     },
     "execution_count": 77,
     "metadata": {},
     "output_type": "execute_result"
    }
   ],
   "source": [
    "bool(\"\") # 空字符串"
   ]
  },
  {
   "cell_type": "code",
   "execution_count": 78,
   "metadata": {
    "slideshow": {
     "slide_type": "fragment"
    }
   },
   "outputs": [
    {
     "data": {
      "text/plain": [
       "False"
      ]
     },
     "execution_count": 78,
     "metadata": {},
     "output_type": "execute_result"
    }
   ],
   "source": [
    "bool([]) # 空 list"
   ]
  },
  {
   "cell_type": "markdown",
   "metadata": {
    "slideshow": {
     "slide_type": "subslide"
    }
   },
   "source": [
    "### 空值 None\n",
    "\n",
    "空值 `None` 其实是一种单独的类型，它用来代表 “什么都没有” 听起来似乎有些抽象，但还是经常会见它到的，\n",
    "比如一个函数什么都不返回时，其实它返回的是 `None` 这里先说一下，后面讲解函数的时候还会提到。"
   ]
  },
  {
   "cell_type": "code",
   "execution_count": 79,
   "metadata": {
    "slideshow": {
     "slide_type": "fragment"
    }
   },
   "outputs": [
    {
     "data": {
      "text/plain": [
       "NoneType"
      ]
     },
     "execution_count": 79,
     "metadata": {},
     "output_type": "execute_result"
    }
   ],
   "source": [
    "type(None)"
   ]
  },
  {
   "cell_type": "code",
   "execution_count": 80,
   "metadata": {
    "slideshow": {
     "slide_type": "fragment"
    }
   },
   "outputs": [
    {
     "data": {
      "text/plain": [
       "False"
      ]
     },
     "execution_count": 80,
     "metadata": {},
     "output_type": "execute_result"
    }
   ],
   "source": [
    "bool(None)"
   ]
  },
  {
   "cell_type": "code",
   "execution_count": 81,
   "metadata": {
    "slideshow": {
     "slide_type": "fragment"
    }
   },
   "outputs": [],
   "source": [
    "None  # None 在 REPL 中什么都不显示"
   ]
  },
  {
   "cell_type": "markdown",
   "metadata": {
    "slideshow": {
     "slide_type": "subslide"
    }
   },
   "source": [
    "### 谓词\n",
    "\n",
    "既然提到布尔值就不得不说谓词(predicate)了，谓词简单来说就是一种表示判断的运算符、函数或者语句，\n",
    "或者说是一种 任意类型到布尔类型的映射(Any -> bool)。\n",
    "Python中最常见的谓词是比较运算符。\n",
    "\n",
    "比如 `==` 用来判断两个对象是否相等，\n",
    "`!=` 判断是否不相等。类似的还有：大于`>`、小于`<`，大于等于`>=`，小于等于`<=`等等。"
   ]
  },
  {
   "cell_type": "code",
   "execution_count": 82,
   "metadata": {
    "slideshow": {
     "slide_type": "fragment"
    }
   },
   "outputs": [
    {
     "data": {
      "text/plain": [
       "True"
      ]
     },
     "execution_count": 82,
     "metadata": {},
     "output_type": "execute_result"
    }
   ],
   "source": [
    "456 > 123"
   ]
  },
  {
   "cell_type": "code",
   "execution_count": 83,
   "metadata": {
    "slideshow": {
     "slide_type": "fragment"
    }
   },
   "outputs": [
    {
     "data": {
      "text/plain": [
       "True"
      ]
     },
     "execution_count": 83,
     "metadata": {},
     "output_type": "execute_result"
    }
   ],
   "source": [
    "\"戏说\" != \"胡说\"  # 字符串 \"戏说\" 不等于 \"胡说\""
   ]
  },
  {
   "cell_type": "code",
   "execution_count": 84,
   "metadata": {
    "slideshow": {
     "slide_type": "fragment"
    }
   },
   "outputs": [
    {
     "data": {
      "text/plain": [
       "False"
      ]
     },
     "execution_count": 84,
     "metadata": {},
     "output_type": "execute_result"
    }
   ],
   "source": [
    "\"改编\" == \"乱编\""
   ]
  },
  {
   "cell_type": "markdown",
   "metadata": {
    "slideshow": {
     "slide_type": "fragment"
    }
   },
   "source": [
    "还有一个常用的谓词是 `is` 语句（is statement），它用来判断两个对象是否是同一个对象。与 `==` 运算符有点像，但也存在差别。\n",
    "因为两个值相等的对象并不一定是同一个对象。我们举个例子："
   ]
  },
  {
   "cell_type": "code",
   "execution_count": 85,
   "metadata": {
    "slideshow": {
     "slide_type": "fragment"
    }
   },
   "outputs": [
    {
     "data": {
      "text/plain": [
       "True"
      ]
     },
     "execution_count": 85,
     "metadata": {},
     "output_type": "execute_result"
    }
   ],
   "source": [
    "a = \"戏说\"\n",
    "b = \"戏说\"\n",
    "a == b"
   ]
  },
  {
   "cell_type": "markdown",
   "metadata": {
    "slideshow": {
     "slide_type": "fragment"
    }
   },
   "source": [
    "这里 a 与 b 的值是相等的，都是字符串“戏说”，但它们其实并不是同一个对象："
   ]
  },
  {
   "cell_type": "code",
   "execution_count": 86,
   "metadata": {
    "slideshow": {
     "slide_type": "fragment"
    }
   },
   "outputs": [
    {
     "data": {
      "text/plain": [
       "False"
      ]
     },
     "execution_count": 86,
     "metadata": {},
     "output_type": "execute_result"
    }
   ],
   "source": [
    "a is b"
   ]
  },
  {
   "cell_type": "markdown",
   "metadata": {
    "slideshow": {
     "slide_type": "fragment"
    }
   },
   "source": [
    "实际上，每一个 Python 对象都有一个独特的 id ，我们也可以用它们的 id 判断是否是同一个对象："
   ]
  },
  {
   "cell_type": "code",
   "execution_count": 87,
   "metadata": {
    "slideshow": {
     "slide_type": "fragment"
    }
   },
   "outputs": [
    {
     "data": {
      "text/plain": [
       "140408862060456"
      ]
     },
     "execution_count": 87,
     "metadata": {},
     "output_type": "execute_result"
    }
   ],
   "source": [
    "id(a)"
   ]
  },
  {
   "cell_type": "code",
   "execution_count": 88,
   "metadata": {
    "slideshow": {
     "slide_type": "fragment"
    }
   },
   "outputs": [
    {
     "data": {
      "text/plain": [
       "140408862056848"
      ]
     },
     "execution_count": 88,
     "metadata": {},
     "output_type": "execute_result"
    }
   ],
   "source": [
    "id(b)"
   ]
  },
  {
   "cell_type": "code",
   "execution_count": 89,
   "metadata": {
    "slideshow": {
     "slide_type": "fragment"
    }
   },
   "outputs": [
    {
     "data": {
      "text/plain": [
       "True"
      ]
     },
     "execution_count": 89,
     "metadata": {},
     "output_type": "execute_result"
    }
   ],
   "source": [
    "id(a) != id(b)"
   ]
  }
 ],
 "metadata": {
  "@webio": {
   "lastCommId": null,
   "lastKernelId": null
  },
  "celltoolbar": "幻灯片",
  "kernelspec": {
   "display_name": "Python 3",
   "language": "python",
   "name": "python3"
  },
  "language_info": {
   "codemirror_mode": {
    "name": "ipython",
    "version": 3
   },
   "file_extension": ".py",
   "mimetype": "text/x-python",
   "name": "python",
   "nbconvert_exporter": "python",
   "pygments_lexer": "ipython3",
   "version": "3.6.3"
  }
 },
 "nbformat": 4,
 "nbformat_minor": 2
}
