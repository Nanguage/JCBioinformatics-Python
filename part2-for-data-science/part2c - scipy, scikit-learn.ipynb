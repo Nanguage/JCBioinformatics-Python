{
 "cells": [
  {
   "cell_type": "markdown",
   "metadata": {},
   "source": [
    "# Scikit-Learn"
   ]
  },
  {
   "cell_type": "markdown",
   "metadata": {},
   "source": [
    "### 1 scikit-learn 是什么\n",
    "\n",
    "直接来看`sklearn`的官网截图，简洁明了的展示了`sklearn`是用来做什么的：\n",
    "<center>\n",
    "<img src=\"./img/21sklearn_screenshot.png\" width=700 height=500></img>\n",
    "</center>"
   ]
  },
  {
   "cell_type": "markdown",
   "metadata": {},
   "source": [
    "可以看到`sklearn`为机器学习提供了以下`6`大模块：\n",
    "- 分类\n",
    "- 回归\n",
    "- 聚类\n",
    "- 维度约减\n",
    "- 模型选择\n",
    "- 数据预处理\n",
    "\n",
    "也可以三大块:\n",
    "\n",
    "- 数据预处理，比如:\n",
    "    - 数据标准化(Standardization)/归一化(Normalization)\n",
    "    - 数据离散化\n",
    "    - 数据向量化(将标签型数据转换为数字向量)\n",
    "    - `Imputation`(对缺失值进行填充)\n",
    "    - 核化(将数据投射到高维空间)\n",
    "    - 特征的选择\n",
    "    \n",
    "- 模型\n",
    "    - 各种机器学习常见模型\n",
    "        - 监督学习：\n",
    "            - 分类： Naive Bayes, 支持向量机, 决策树，集成方法, 神经网络, Gaussian Process\n",
    "            - 回归：最小二乘回归，Lasso/Ridge回归, 逻辑回归, SVR, 神经网络, Gaussian Process\n",
    "        - 无监督学习：\n",
    "            - 聚类：k-means聚类，DBSCAN，混合高斯聚类, 谱聚类 等\n",
    "            - 维度约减: Pca, LDA, t-SNE\n",
    "    - 模型参数寻优\n",
    "- 模型评估\n",
    "    - 使用各种`score`对模型进行评估：比如:\n",
    "        - 分类：`accuracy` `recall` `f1` `roc_auc`等\n",
    "        - 回归：`squared_error`  `r2`等\n",
    "        - 聚类：`fm_score` `rand_score`等\n",
    "    - 交叉验证"
   ]
  },
  {
   "cell_type": "markdown",
   "metadata": {},
   "source": [
    "`sklearn`的接口非常人性化，很容易就可以弄清楚各个函数的作用，并且其模型的**训练/预测数据**一般为`(n_sample, n_feature)`形状的**二维数**组, 模型得到的**标签/回归数值**则是`(n_sample,)`形状的**一维数组**：\n",
    "\n",
    "大部分情况下，**训练模型**的函数长这样: \n",
    "\n",
    "只需要提供一个表示样本特征的`ndarray(n_samples, n_features)`，以及表示各样本标签的`ndarray(n_samples, )`"
   ]
  },
  {
   "cell_type": "code",
   "execution_count": 3,
   "metadata": {},
   "outputs": [
    {
     "name": "stdout",
     "output_type": "stream",
     "text": [
      "Fit Ridge regression model\n",
      "\n",
      "        Parameters\n",
      "        ----------\n",
      "        X : {array-like, sparse matrix}, shape = [n_samples, n_features]\n",
      "            Training data\n",
      "\n",
      "        y : array-like, shape = [n_samples] or [n_samples, n_targets]\n",
      "            Target values\n",
      "\n",
      "        sample_weight : float or numpy array of shape [n_samples]\n",
      "            Individual weights for each sample\n",
      "\n",
      "        Returns\n",
      "        -------\n",
      "        self : returns an instance of self.\n",
      "        \n"
     ]
    }
   ],
   "source": [
    "from sklearn.linear_model import Ridge\n",
    "print(Ridge.fit.__doc__)"
   ]
  },
  {
   "cell_type": "markdown",
   "metadata": {},
   "source": [
    "大部分情况下，使用训练好的模型**预测新数据**的函数长这样:   \n",
    "\n",
    "由于是预测，自然是返回一个预测好的标签数组啦。"
   ]
  },
  {
   "cell_type": "code",
   "execution_count": 4,
   "metadata": {},
   "outputs": [
    {
     "name": "stdout",
     "output_type": "stream",
     "text": [
      "Perform classification on samples in X.\n",
      "\n",
      "        For an one-class model, +1 or -1 is returned.\n",
      "\n",
      "        Parameters\n",
      "        ----------\n",
      "        X : {array-like, sparse matrix}, shape (n_samples, n_features)\n",
      "            For kernel=\"precomputed\", the expected shape of X is\n",
      "            [n_samples_test, n_samples_train]\n",
      "\n",
      "        Returns\n",
      "        -------\n",
      "        y_pred : array, shape (n_samples,)\n",
      "            Class labels for samples in X.\n",
      "        \n"
     ]
    }
   ],
   "source": [
    "from sklearn.svm import SVC\n",
    "print(SVC.predict.__doc__)"
   ]
  },
  {
   "cell_type": "markdown",
   "metadata": {},
   "source": [
    "大部分模型都是这么使用的，很多非`sklearn`内置的模型，也实现了这样的接口，比如`xgboost`, 可以与sklearn的交叉验证，模型评估等想结合，甚至你自己的模型都可以整合进来。"
   ]
  },
  {
   "cell_type": "markdown",
   "metadata": {},
   "source": [
    "### 示例"
   ]
  },
  {
   "cell_type": "code",
   "execution_count": 6,
   "metadata": {},
   "outputs": [
    {
     "name": "stdout",
     "output_type": "stream",
     "text": [
      "Classification report for classifier SVC(C=1.0, cache_size=200, class_weight=None, coef0=0.0,\n",
      "    decision_function_shape='ovr', degree=3, gamma=0.001, kernel='rbf',\n",
      "    max_iter=-1, probability=False, random_state=None, shrinking=True,\n",
      "    tol=0.001, verbose=False):\n",
      "              precision    recall  f1-score   support\n",
      "\n",
      "           0       1.00      1.00      1.00        48\n",
      "           1       0.96      1.00      0.98        49\n",
      "           2       1.00      1.00      1.00        43\n",
      "           3       1.00      1.00      1.00        43\n",
      "           4       1.00      1.00      1.00        43\n",
      "           5       1.00      1.00      1.00        41\n",
      "           6       1.00      0.98      0.99        49\n",
      "           7       0.98      0.98      0.98        44\n",
      "           8       0.98      0.95      0.97        44\n",
      "           9       0.98      0.98      0.98        46\n",
      "\n",
      "    accuracy                           0.99       450\n",
      "   macro avg       0.99      0.99      0.99       450\n",
      "weighted avg       0.99      0.99      0.99       450\n",
      "\n",
      "\n",
      "Confusion matrix:\n",
      "[[48  0  0  0  0  0  0  0  0  0]\n",
      " [ 0 49  0  0  0  0  0  0  0  0]\n",
      " [ 0  0 43  0  0  0  0  0  0  0]\n",
      " [ 0  0  0 43  0  0  0  0  0  0]\n",
      " [ 0  0  0  0 43  0  0  0  0  0]\n",
      " [ 0  0  0  0  0 41  0  0  0  0]\n",
      " [ 0  0  0  0  0  0 48  0  1  0]\n",
      " [ 0  0  0  0  0  0  0 43  0  1]\n",
      " [ 0  2  0  0  0  0  0  0 42  0]\n",
      " [ 0  0  0  0  0  0  0  1  0 45]]\n"
     ]
    },
    {
     "data": {
      "image/png": "[encoded data removed]",
      "text/plain": [
       "<Figure size 432x288 with 8 Axes>"
      ]
     },
     "metadata": {
      "needs_background": "light"
     },
     "output_type": "display_data"
    }
   ],
   "source": [
    "# Author: Gael Varoquaux <gael dot varoquaux at normalesup dot org>\n",
    "# License: BSD 3 clause\n",
    "from IPython.utils import io\n",
    "import matplotlib.pyplot as plt\n",
    "from sklearn import datasets, svm, metrics\n",
    "from sklearn.model_selection import train_test_split\n",
    "\n",
    "# 数据导入， 绘图展示\n",
    "digits = datasets.load_digits()\n",
    "images_and_labels = list(zip(digits.images, digits.target))\n",
    "with io.capture_output() as captured:\n",
    "    for index, (image, label) in enumerate(images_and_labels[:4]):\n",
    "        plt.subplot(2, 4, index + 1)\n",
    "        plt.axis('off')\n",
    "        plt.imshow(image, cmap=plt.cm.gray_r, interpolation='nearest')\n",
    "        plt.title('Training: %i' % label)\n",
    "##############################################################################################\n",
    "# 以上均不重要\n",
    "\n",
    "# 数据预处理，划分训练集，测试集\n",
    "n_samples = len(digits.images)\n",
    "data = digits.images.reshape((n_samples, -1))\n",
    "train_x, test_x, train_y, test_y = train_test_split(data, digits.target)\n",
    "\n",
    "# 使用SVC模型, 设置参数, 使用训练集训练模型\n",
    "classifier = svm.SVC(gamma=0.001)\n",
    "classifier.fit(train_x, train_y)\n",
    "\n",
    "# 使用模型预测新数据\n",
    "predicted_y = classifier.predict(test_x)\n",
    "\n",
    "# 模型评估\n",
    "print(\"Classification report for classifier %s:\\n%s\\n\"\n",
    "      % (classifier, metrics.classification_report(test_y, predicted_y)))\n",
    "print(\"Confusion matrix:\\n%s\" % metrics.confusion_matrix(test_y, predicted_y))\n",
    "\n",
    "# 以下均不重要\n",
    "###########################################################################################\n",
    "\n",
    "images_and_predictions = list(zip(test_x, predicted_y, test_y))\n",
    "with io.capture_output() as captured:\n",
    "    for index, (image, prediction, true_label) in enumerate(images_and_predictions[:4]):\n",
    "        plt.subplot(2, 4, index + 5)\n",
    "        plt.axis('off')\n",
    "        plt.imshow(image.reshape(8, 8), cmap=plt.cm.gray_r, interpolation='nearest')\n",
    "        plt.title('Prediction: {} \\nTrue Label: {}'.format(prediction, true_label))\n",
    "\n",
    "plt.show()\n"
   ]
  },
  {
   "cell_type": "markdown",
   "metadata": {},
   "source": [
    "看！大约`10`行(主体部分)的代码就能使用一个模型解决我们的问题, 并且准确率那么高(有些字我自己都认不清╯▽╰ )。"
   ]
  }
 ],
 "metadata": {
  "kernelspec": {
   "display_name": "Python 3",
   "language": "python",
   "name": "python3"
  },
  "language_info": {
   "codemirror_mode": {
    "name": "ipython",
    "version": 3
   },
   "file_extension": ".py",
   "mimetype": "text/x-python",
   "name": "python",
   "nbconvert_exporter": "python",
   "pygments_lexer": "ipython3",
   "version": "3.6.7"
  }
 },
 "nbformat": 4,
 "nbformat_minor": 2
}
