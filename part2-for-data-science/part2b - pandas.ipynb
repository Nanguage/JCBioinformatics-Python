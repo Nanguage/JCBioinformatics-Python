{
 "cells": [
  {
   "cell_type": "markdown",
   "metadata": {},
   "source": [
    "![](https://pandas.pydata.org/_static/pandas_logo.png)"
   ]
  },
  {
   "cell_type": "markdown",
   "metadata": {},
   "source": [
    "### 简介"
   ]
  },
  {
   "cell_type": "markdown",
   "metadata": {},
   "source": [
    "`pandas` 是 Python 生态下用于表格数据处理的库，它提供了一个与 R 中的 `DataFrame` 类似的数据结构，以及一系列应用在 `DataFrame` 数据结构上的函数与方法，用于对其进行基本的处理、统计以及可视化操作。\n",
    "\n",
    "`pandas` 文档有十分详细的[教程](https://pandas.pydata.org/pandas-docs/stable/getting_started/index.html)，建议阅读。"
   ]
  },
  {
   "cell_type": "markdown",
   "metadata": {},
   "source": [
    "### 使用示例\n",
    "\n",
    "这里我们展示一个使用 pandas 处理 [`GFF3`](https://www.ensembl.org/info/website/upload/gff3.html?redirect=no) 格式文件的例子。\n",
    "\n",
    "GFF3 是一种表格文件(tsv)，它一共有9列是这样定义的：\n",
    "\n",
    "1. **seqid** - name of the chromosome or scaffold; chromosome names can be given with or without the 'chr' prefix. Important note: the seq ID must be one used within Ensembl, i.e. a standard chromosome name or an Ensembl identifier such as a scaffold ID, without any additional content such as species or assembly. See the example GFF output below.\n",
    "2. **source** - name of the program that generated this feature, or the data source (database or project name)\n",
    "3. **type** - type of feature. Must be a term or accession from the SOFA sequence ontology\n",
    "4. **start** - Start position of the feature, with sequence numbering starting at 1.\n",
    "5. **end** - End position of the feature, with sequence numbering starting at 1.\n",
    "6. **score** - A floating point value.\n",
    "7. **strand** - defined as + (forward) or - (reverse).\n",
    "8. **phase** - One of '0', '1' or '2'. '0' indicates that the first base of the feature is the first base of a codon, '1' that the second base is the first base of a codon, and so on..\n",
    "9. **attributes** - A semicolon-separated list of tag-value pairs, providing additional information about each feature. Some of these tags are predefined, e.g. ID, Name, Alias, Parent - see the GFF documentation for more details.\n"
   ]
  },
  {
   "cell_type": "code",
   "execution_count": 1,
   "metadata": {},
   "outputs": [],
   "source": [
    "import pandas as pd"
   ]
  },
  {
   "cell_type": "markdown",
   "metadata": {},
   "source": [
    "首先让我们将文件读入："
   ]
  },
  {
   "cell_type": "code",
   "execution_count": 11,
   "metadata": {},
   "outputs": [],
   "source": [
    "gff3_file = \"./data/Homo_sapiens.GRCh38.97.chromosome.16.gene.gff3\"\n",
    "df = pd.read_csv(gff3_file, sep='\\t', header=None)  # 读取文件，分隔符为 '\\t'\n",
    "df.columns = [\"seqid\", \"source\", \"type\", \"start\", \"end\", \"score\", \"strand\", \"phase\", \"attributes\"]"
   ]
  },
  {
   "cell_type": "markdown",
   "metadata": {},
   "source": [
    "使用 `head` 查看一下前 10 行"
   ]
  },
  {
   "cell_type": "code",
   "execution_count": 13,
   "metadata": {},
   "outputs": [
    {
     "data": {
      "text/html": [
       "<div>\n",
       "<style scoped>\n",
       "    .dataframe tbody tr th:only-of-type {\n",
       "        vertical-align: middle;\n",
       "    }\n",
       "\n",
       "    .dataframe tbody tr th {\n",
       "        vertical-align: top;\n",
       "    }\n",
       "\n",
       "    .dataframe thead th {\n",
       "        text-align: right;\n",
       "    }\n",
       "</style>\n",
       "<table border=\"1\" class=\"dataframe\">\n",
       "  <thead>\n",
       "    <tr style=\"text-align: right;\">\n",
       "      <th></th>\n",
       "      <th>seqid</th>\n",
       "      <th>source</th>\n",
       "      <th>type</th>\n",
       "      <th>start</th>\n",
       "      <th>end</th>\n",
       "      <th>score</th>\n",
       "      <th>strand</th>\n",
       "      <th>phase</th>\n",
       "      <th>attributes</th>\n",
       "    </tr>\n",
       "  </thead>\n",
       "  <tbody>\n",
       "    <tr>\n",
       "      <th>0</th>\n",
       "      <td>16</td>\n",
       "      <td>ensembl_havana</td>\n",
       "      <td>gene</td>\n",
       "      <td>46407</td>\n",
       "      <td>53628</td>\n",
       "      <td>.</td>\n",
       "      <td>-</td>\n",
       "      <td>.</td>\n",
       "      <td>ID=gene:ENSG00000161980;Name=POLR3K;biotype=pr...</td>\n",
       "    </tr>\n",
       "    <tr>\n",
       "      <th>1</th>\n",
       "      <td>16</td>\n",
       "      <td>ensembl_havana</td>\n",
       "      <td>gene</td>\n",
       "      <td>53010</td>\n",
       "      <td>57669</td>\n",
       "      <td>.</td>\n",
       "      <td>+</td>\n",
       "      <td>.</td>\n",
       "      <td>ID=gene:ENSG00000161981;Name=SNRNP25;biotype=p...</td>\n",
       "    </tr>\n",
       "    <tr>\n",
       "      <th>2</th>\n",
       "      <td>16</td>\n",
       "      <td>ensembl_havana</td>\n",
       "      <td>gene</td>\n",
       "      <td>58059</td>\n",
       "      <td>76355</td>\n",
       "      <td>.</td>\n",
       "      <td>-</td>\n",
       "      <td>.</td>\n",
       "      <td>ID=gene:ENSG00000007384;Name=RHBDF1;biotype=pr...</td>\n",
       "    </tr>\n",
       "    <tr>\n",
       "      <th>3</th>\n",
       "      <td>16</td>\n",
       "      <td>havana</td>\n",
       "      <td>gene</td>\n",
       "      <td>74683</td>\n",
       "      <td>74961</td>\n",
       "      <td>.</td>\n",
       "      <td>+</td>\n",
       "      <td>.</td>\n",
       "      <td>ID=gene:ENSG00000278995;Name=Z69720.2;biotype=...</td>\n",
       "    </tr>\n",
       "    <tr>\n",
       "      <th>4</th>\n",
       "      <td>16</td>\n",
       "      <td>ensembl_havana</td>\n",
       "      <td>gene</td>\n",
       "      <td>77007</td>\n",
       "      <td>85853</td>\n",
       "      <td>.</td>\n",
       "      <td>+</td>\n",
       "      <td>.</td>\n",
       "      <td>ID=gene:ENSG00000103152;Name=MPG;biotype=prote...</td>\n",
       "    </tr>\n",
       "    <tr>\n",
       "      <th>5</th>\n",
       "      <td>16</td>\n",
       "      <td>ensembl_havana</td>\n",
       "      <td>gene</td>\n",
       "      <td>84271</td>\n",
       "      <td>138860</td>\n",
       "      <td>.</td>\n",
       "      <td>-</td>\n",
       "      <td>.</td>\n",
       "      <td>ID=gene:ENSG00000103148;Name=NPRL3;biotype=pro...</td>\n",
       "    </tr>\n",
       "    <tr>\n",
       "      <th>6</th>\n",
       "      <td>16</td>\n",
       "      <td>ensembl_havana</td>\n",
       "      <td>gene</td>\n",
       "      <td>142728</td>\n",
       "      <td>154503</td>\n",
       "      <td>.</td>\n",
       "      <td>+</td>\n",
       "      <td>.</td>\n",
       "      <td>ID=gene:ENSG00000130656;Name=HBZ;biotype=prote...</td>\n",
       "    </tr>\n",
       "    <tr>\n",
       "      <th>7</th>\n",
       "      <td>16</td>\n",
       "      <td>ensembl_havana</td>\n",
       "      <td>gene</td>\n",
       "      <td>153892</td>\n",
       "      <td>166764</td>\n",
       "      <td>.</td>\n",
       "      <td>+</td>\n",
       "      <td>.</td>\n",
       "      <td>ID=gene:ENSG00000206177;Name=HBM;biotype=prote...</td>\n",
       "    </tr>\n",
       "    <tr>\n",
       "      <th>8</th>\n",
       "      <td>16</td>\n",
       "      <td>ensembl_havana</td>\n",
       "      <td>gene</td>\n",
       "      <td>172876</td>\n",
       "      <td>173710</td>\n",
       "      <td>.</td>\n",
       "      <td>+</td>\n",
       "      <td>.</td>\n",
       "      <td>ID=gene:ENSG00000188536;Name=HBA2;biotype=prot...</td>\n",
       "    </tr>\n",
       "    <tr>\n",
       "      <th>9</th>\n",
       "      <td>16</td>\n",
       "      <td>ensembl_havana</td>\n",
       "      <td>gene</td>\n",
       "      <td>176680</td>\n",
       "      <td>177522</td>\n",
       "      <td>.</td>\n",
       "      <td>+</td>\n",
       "      <td>.</td>\n",
       "      <td>ID=gene:ENSG00000206172;Name=HBA1;biotype=prot...</td>\n",
       "    </tr>\n",
       "  </tbody>\n",
       "</table>\n",
       "</div>"
      ],
      "text/plain": [
       "   seqid          source  type   start     end score strand phase  \\\n",
       "0     16  ensembl_havana  gene   46407   53628     .      -     .   \n",
       "1     16  ensembl_havana  gene   53010   57669     .      +     .   \n",
       "2     16  ensembl_havana  gene   58059   76355     .      -     .   \n",
       "3     16          havana  gene   74683   74961     .      +     .   \n",
       "4     16  ensembl_havana  gene   77007   85853     .      +     .   \n",
       "5     16  ensembl_havana  gene   84271  138860     .      -     .   \n",
       "6     16  ensembl_havana  gene  142728  154503     .      +     .   \n",
       "7     16  ensembl_havana  gene  153892  166764     .      +     .   \n",
       "8     16  ensembl_havana  gene  172876  173710     .      +     .   \n",
       "9     16  ensembl_havana  gene  176680  177522     .      +     .   \n",
       "\n",
       "                                          attributes  \n",
       "0  ID=gene:ENSG00000161980;Name=POLR3K;biotype=pr...  \n",
       "1  ID=gene:ENSG00000161981;Name=SNRNP25;biotype=p...  \n",
       "2  ID=gene:ENSG00000007384;Name=RHBDF1;biotype=pr...  \n",
       "3  ID=gene:ENSG00000278995;Name=Z69720.2;biotype=...  \n",
       "4  ID=gene:ENSG00000103152;Name=MPG;biotype=prote...  \n",
       "5  ID=gene:ENSG00000103148;Name=NPRL3;biotype=pro...  \n",
       "6  ID=gene:ENSG00000130656;Name=HBZ;biotype=prote...  \n",
       "7  ID=gene:ENSG00000206177;Name=HBM;biotype=prote...  \n",
       "8  ID=gene:ENSG00000188536;Name=HBA2;biotype=prot...  \n",
       "9  ID=gene:ENSG00000206172;Name=HBA1;biotype=prot...  "
      ]
     },
     "execution_count": 13,
     "metadata": {},
     "output_type": "execute_result"
    }
   ],
   "source": [
    "df.head(10)"
   ]
  },
  {
   "cell_type": "markdown",
   "metadata": {},
   "source": [
    "查看一下总共有多少行"
   ]
  },
  {
   "cell_type": "code",
   "execution_count": 14,
   "metadata": {},
   "outputs": [
    {
     "data": {
      "text/plain": [
       "(992, 9)"
      ]
     },
     "execution_count": 14,
     "metadata": {},
     "output_type": "execute_result"
    }
   ],
   "source": [
    "df.shape"
   ]
  },
  {
   "cell_type": "markdown",
   "metadata": {},
   "source": [
    "`df.shape` 返回了一个 `tuple` 代表这个 DataFrame 的形状： 992 行，9 列"
   ]
  },
  {
   "cell_type": "markdown",
   "metadata": {},
   "source": [
    "我们还可以做一些基因长度有关的统计："
   ]
  },
  {
   "cell_type": "code",
   "execution_count": 15,
   "metadata": {},
   "outputs": [],
   "source": [
    "gene_length = df['end'] - df['start']"
   ]
  },
  {
   "cell_type": "code",
   "execution_count": 17,
   "metadata": {},
   "outputs": [
    {
     "data": {
      "text/plain": [
       "count    9.920000e+02\n",
       "mean     4.291109e+04\n",
       "std      1.167298e+05\n",
       "min      1.210000e+02\n",
       "25%      4.298500e+03\n",
       "50%      1.529150e+04\n",
       "75%      4.330625e+04\n",
       "max      2.473536e+06\n",
       "dtype: float64"
      ]
     },
     "execution_count": 17,
     "metadata": {},
     "output_type": "execute_result"
    }
   ],
   "source": [
    "gene_length.describe()"
   ]
  },
  {
   "cell_type": "markdown",
   "metadata": {},
   "source": [
    "我们还可以用`pandas`内置的函数画一些图："
   ]
  },
  {
   "cell_type": "code",
   "execution_count": 22,
   "metadata": {},
   "outputs": [],
   "source": [
    "import matplotlib.pyplot as plt"
   ]
  },
  {
   "cell_type": "markdown",
   "metadata": {},
   "source": [
    "基因长度分布箱线图："
   ]
  },
  {
   "cell_type": "code",
   "execution_count": 38,
   "metadata": {},
   "outputs": [
    {
     "data": {
      "text/plain": [
       "Text(0, 0.5, 'length')"
      ]
     },
     "execution_count": 38,
     "metadata": {},
     "output_type": "execute_result"
    },
    {
     "data": {
      "image/png": "[encoded data removed]",
      "text/plain": [
       "<Figure size 432x288 with 1 Axes>"
      ]
     },
     "metadata": {
      "needs_background": "light"
     },
     "output_type": "display_data"
    }
   ],
   "source": [
    "gene_length.plot.box(label=\"chr16\")\n",
    "plt.yscale('log')\n",
    "plt.ylabel(\"length\")"
   ]
  },
  {
   "cell_type": "markdown",
   "metadata": {},
   "source": [
    "基因的长度与基因相对位置之间的关系："
   ]
  },
  {
   "cell_type": "code",
   "execution_count": 33,
   "metadata": {},
   "outputs": [
    {
     "data": {
      "text/plain": [
       "<matplotlib.axes._subplots.AxesSubplot at 0x2074d886b00>"
      ]
     },
     "execution_count": 33,
     "metadata": {},
     "output_type": "execute_result"
    },
    {
     "data": {
      "image/png": "[encoded data removed]",
      "text/plain": [
       "<Figure size 1440x288 with 1 Axes>"
      ]
     },
     "metadata": {
      "needs_background": "light"
     },
     "output_type": "display_data"
    }
   ],
   "source": [
    "fig, ax = plt.subplots(figsize=(20, 4))\n",
    "gene_length.plot(color=\"#ff5c5c\", alpha=0.7)"
   ]
  },
  {
   "cell_type": "markdown",
   "metadata": {},
   "source": [
    "上面是基因长度的一些基本统计信息(min, max, mean, std, ...)"
   ]
  },
  {
   "cell_type": "markdown",
   "metadata": {},
   "source": [
    "我们还可以按照信息来源对 `df` 进行分组(Group)，查看一下每种来源的基因有多少"
   ]
  },
  {
   "cell_type": "code",
   "execution_count": 43,
   "metadata": {},
   "outputs": [
    {
     "data": {
      "text/plain": [
       "source\n",
       "ensembl             1\n",
       "ensembl_havana    799\n",
       "havana            192\n",
       "Name: seqid, dtype: int64"
      ]
     },
     "execution_count": 43,
     "metadata": {},
     "output_type": "execute_result"
    }
   ],
   "source": [
    "df.groupby('source').count()['seqid']"
   ]
  },
  {
   "cell_type": "markdown",
   "metadata": {},
   "source": [
    "还可以使用字符串操作将基因的 `ENSEMBL ID` 从 `Attribute` 列中取出来"
   ]
  },
  {
   "cell_type": "code",
   "execution_count": 48,
   "metadata": {},
   "outputs": [],
   "source": [
    "ensids = df.attributes.str.extract(\"gene:(.*);Name\")"
   ]
  },
  {
   "cell_type": "markdown",
   "metadata": {},
   "source": [
    "然后给原来的 df 添加一列新的值："
   ]
  },
  {
   "cell_type": "code",
   "execution_count": 49,
   "metadata": {},
   "outputs": [],
   "source": [
    "df['ENSID'] = ensids"
   ]
  },
  {
   "cell_type": "code",
   "execution_count": 50,
   "metadata": {},
   "outputs": [
    {
     "data": {
      "text/html": [
       "<div>\n",
       "<style scoped>\n",
       "    .dataframe tbody tr th:only-of-type {\n",
       "        vertical-align: middle;\n",
       "    }\n",
       "\n",
       "    .dataframe tbody tr th {\n",
       "        vertical-align: top;\n",
       "    }\n",
       "\n",
       "    .dataframe thead th {\n",
       "        text-align: right;\n",
       "    }\n",
       "</style>\n",
       "<table border=\"1\" class=\"dataframe\">\n",
       "  <thead>\n",
       "    <tr style=\"text-align: right;\">\n",
       "      <th></th>\n",
       "      <th>seqid</th>\n",
       "      <th>source</th>\n",
       "      <th>type</th>\n",
       "      <th>start</th>\n",
       "      <th>end</th>\n",
       "      <th>score</th>\n",
       "      <th>strand</th>\n",
       "      <th>phase</th>\n",
       "      <th>attributes</th>\n",
       "      <th>ENSID</th>\n",
       "    </tr>\n",
       "  </thead>\n",
       "  <tbody>\n",
       "    <tr>\n",
       "      <th>0</th>\n",
       "      <td>16</td>\n",
       "      <td>ensembl_havana</td>\n",
       "      <td>gene</td>\n",
       "      <td>46407</td>\n",
       "      <td>53628</td>\n",
       "      <td>.</td>\n",
       "      <td>-</td>\n",
       "      <td>.</td>\n",
       "      <td>ID=gene:ENSG00000161980;Name=POLR3K;biotype=pr...</td>\n",
       "      <td>ENSG00000161980</td>\n",
       "    </tr>\n",
       "    <tr>\n",
       "      <th>1</th>\n",
       "      <td>16</td>\n",
       "      <td>ensembl_havana</td>\n",
       "      <td>gene</td>\n",
       "      <td>53010</td>\n",
       "      <td>57669</td>\n",
       "      <td>.</td>\n",
       "      <td>+</td>\n",
       "      <td>.</td>\n",
       "      <td>ID=gene:ENSG00000161981;Name=SNRNP25;biotype=p...</td>\n",
       "      <td>ENSG00000161981</td>\n",
       "    </tr>\n",
       "    <tr>\n",
       "      <th>2</th>\n",
       "      <td>16</td>\n",
       "      <td>ensembl_havana</td>\n",
       "      <td>gene</td>\n",
       "      <td>58059</td>\n",
       "      <td>76355</td>\n",
       "      <td>.</td>\n",
       "      <td>-</td>\n",
       "      <td>.</td>\n",
       "      <td>ID=gene:ENSG00000007384;Name=RHBDF1;biotype=pr...</td>\n",
       "      <td>ENSG00000007384</td>\n",
       "    </tr>\n",
       "    <tr>\n",
       "      <th>3</th>\n",
       "      <td>16</td>\n",
       "      <td>havana</td>\n",
       "      <td>gene</td>\n",
       "      <td>74683</td>\n",
       "      <td>74961</td>\n",
       "      <td>.</td>\n",
       "      <td>+</td>\n",
       "      <td>.</td>\n",
       "      <td>ID=gene:ENSG00000278995;Name=Z69720.2;biotype=...</td>\n",
       "      <td>ENSG00000278995</td>\n",
       "    </tr>\n",
       "    <tr>\n",
       "      <th>4</th>\n",
       "      <td>16</td>\n",
       "      <td>ensembl_havana</td>\n",
       "      <td>gene</td>\n",
       "      <td>77007</td>\n",
       "      <td>85853</td>\n",
       "      <td>.</td>\n",
       "      <td>+</td>\n",
       "      <td>.</td>\n",
       "      <td>ID=gene:ENSG00000103152;Name=MPG;biotype=prote...</td>\n",
       "      <td>ENSG00000103152</td>\n",
       "    </tr>\n",
       "  </tbody>\n",
       "</table>\n",
       "</div>"
      ],
      "text/plain": [
       "   seqid          source  type  start    end score strand phase  \\\n",
       "0     16  ensembl_havana  gene  46407  53628     .      -     .   \n",
       "1     16  ensembl_havana  gene  53010  57669     .      +     .   \n",
       "2     16  ensembl_havana  gene  58059  76355     .      -     .   \n",
       "3     16          havana  gene  74683  74961     .      +     .   \n",
       "4     16  ensembl_havana  gene  77007  85853     .      +     .   \n",
       "\n",
       "                                          attributes            ENSID  \n",
       "0  ID=gene:ENSG00000161980;Name=POLR3K;biotype=pr...  ENSG00000161980  \n",
       "1  ID=gene:ENSG00000161981;Name=SNRNP25;biotype=p...  ENSG00000161981  \n",
       "2  ID=gene:ENSG00000007384;Name=RHBDF1;biotype=pr...  ENSG00000007384  \n",
       "3  ID=gene:ENSG00000278995;Name=Z69720.2;biotype=...  ENSG00000278995  \n",
       "4  ID=gene:ENSG00000103152;Name=MPG;biotype=prote...  ENSG00000103152  "
      ]
     },
     "execution_count": 50,
     "metadata": {},
     "output_type": "execute_result"
    }
   ],
   "source": [
    "df.head(5)"
   ]
  }
 ],
 "metadata": {
  "kernelspec": {
   "display_name": "Python 3",
   "language": "python",
   "name": "python3"
  },
  "language_info": {
   "codemirror_mode": {
    "name": "ipython",
    "version": 3
   },
   "file_extension": ".py",
   "mimetype": "text/x-python",
   "name": "python",
   "nbconvert_exporter": "python",
   "pygments_lexer": "ipython3",
   "version": "3.6.7"
  }
 },
 "nbformat": 4,
 "nbformat_minor": 2
}
